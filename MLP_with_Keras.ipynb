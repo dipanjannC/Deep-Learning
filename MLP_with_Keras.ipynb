{
  "nbformat": 4,
  "nbformat_minor": 0,
  "metadata": {
    "colab": {
      "name": "MLP with Keras.ipynb",
      "version": "0.3.2",
      "provenance": [],
      "include_colab_link": true
    },
    "kernelspec": {
      "name": "python3",
      "display_name": "Python 3"
    },
    "accelerator": "GPU"
  },
  "cells": [
    {
      "cell_type": "markdown",
      "metadata": {
        "id": "view-in-github",
        "colab_type": "text"
      },
      "source": [
        "<a href=\"https://colab.research.google.com/github/dipanjannC/Deep-Learning/blob/master/MLP_with_Keras.ipynb\" target=\"_parent\"><img src=\"https://colab.research.google.com/assets/colab-badge.svg\" alt=\"Open In Colab\"/></a>"
      ]
    },
    {
      "cell_type": "code",
      "metadata": {
        "id": "wJwKRnmQFcjx",
        "colab_type": "code",
        "colab": {
          "base_uri": "https://localhost:8080/",
          "height": 35
        },
        "outputId": "e7eed9e2-9699-424b-837d-ab5d744fd92c"
      },
      "source": [
        "from keras.utils import np_utils\n",
        "from keras.datasets import mnist\n",
        "import seaborn as sns\n",
        "from keras.initializers import RandomNormal\n",
        "import numpy as np"
      ],
      "execution_count": 1,
      "outputs": [
        {
          "output_type": "stream",
          "text": [
            "Using TensorFlow backend.\n"
          ],
          "name": "stderr"
        }
      ]
    },
    {
      "cell_type": "code",
      "metadata": {
        "id": "EZHSxvmVMZ2a",
        "colab_type": "code",
        "colab": {}
      },
      "source": [
        "#%matplotlib notebook\n",
        "import matplotlib.pyplot as plt\n",
        "import numpy as np\n",
        "import time\n",
        "# https://gist.github.com/greydanus/f6eee59eaf1d90fcb3b534a25362cea4\n",
        "# https://stackoverflow.com/a/14434334\n",
        "# this function is used to update the plots for each epoch and error\n",
        "def plt_dynamic(x, vy, ty, ax, colors=['b']):\n",
        "    ax.plot(x, vy, 'b', label=\"Validation Loss\")\n",
        "    ax.plot(x, ty, 'r', label=\"Train Loss\")\n",
        "    plt.legend()\n",
        "    plt.grid()\n",
        "    fig.canvas.draw()"
      ],
      "execution_count": 0,
      "outputs": []
    },
    {
      "cell_type": "code",
      "metadata": {
        "id": "YJJl6TDVMpUS",
        "colab_type": "code",
        "colab": {}
      },
      "source": [
        "# the data, shuffled and split between train and test sets \n",
        "(X_train, y_train), (X_test, y_test) = mnist.load_data()"
      ],
      "execution_count": 0,
      "outputs": []
    },
    {
      "cell_type": "code",
      "metadata": {
        "id": "XMaN44l8Oar_",
        "colab_type": "code",
        "colab": {
          "base_uri": "https://localhost:8080/",
          "height": 1046
        },
        "outputId": "182da37d-fbff-4a7f-bcd6-4da23e720906"
      },
      "source": [
        "print(X_train[0])"
      ],
      "execution_count": 4,
      "outputs": [
        {
          "output_type": "stream",
          "text": [
            "[[  0   0   0   0   0   0   0   0   0   0   0   0   0   0   0   0   0   0\n",
            "    0   0   0   0   0   0   0   0   0   0]\n",
            " [  0   0   0   0   0   0   0   0   0   0   0   0   0   0   0   0   0   0\n",
            "    0   0   0   0   0   0   0   0   0   0]\n",
            " [  0   0   0   0   0   0   0   0   0   0   0   0   0   0   0   0   0   0\n",
            "    0   0   0   0   0   0   0   0   0   0]\n",
            " [  0   0   0   0   0   0   0   0   0   0   0   0   0   0   0   0   0   0\n",
            "    0   0   0   0   0   0   0   0   0   0]\n",
            " [  0   0   0   0   0   0   0   0   0   0   0   0   0   0   0   0   0   0\n",
            "    0   0   0   0   0   0   0   0   0   0]\n",
            " [  0   0   0   0   0   0   0   0   0   0   0   0   3  18  18  18 126 136\n",
            "  175  26 166 255 247 127   0   0   0   0]\n",
            " [  0   0   0   0   0   0   0   0  30  36  94 154 170 253 253 253 253 253\n",
            "  225 172 253 242 195  64   0   0   0   0]\n",
            " [  0   0   0   0   0   0   0  49 238 253 253 253 253 253 253 253 253 251\n",
            "   93  82  82  56  39   0   0   0   0   0]\n",
            " [  0   0   0   0   0   0   0  18 219 253 253 253 253 253 198 182 247 241\n",
            "    0   0   0   0   0   0   0   0   0   0]\n",
            " [  0   0   0   0   0   0   0   0  80 156 107 253 253 205  11   0  43 154\n",
            "    0   0   0   0   0   0   0   0   0   0]\n",
            " [  0   0   0   0   0   0   0   0   0  14   1 154 253  90   0   0   0   0\n",
            "    0   0   0   0   0   0   0   0   0   0]\n",
            " [  0   0   0   0   0   0   0   0   0   0   0 139 253 190   2   0   0   0\n",
            "    0   0   0   0   0   0   0   0   0   0]\n",
            " [  0   0   0   0   0   0   0   0   0   0   0  11 190 253  70   0   0   0\n",
            "    0   0   0   0   0   0   0   0   0   0]\n",
            " [  0   0   0   0   0   0   0   0   0   0   0   0  35 241 225 160 108   1\n",
            "    0   0   0   0   0   0   0   0   0   0]\n",
            " [  0   0   0   0   0   0   0   0   0   0   0   0   0  81 240 253 253 119\n",
            "   25   0   0   0   0   0   0   0   0   0]\n",
            " [  0   0   0   0   0   0   0   0   0   0   0   0   0   0  45 186 253 253\n",
            "  150  27   0   0   0   0   0   0   0   0]\n",
            " [  0   0   0   0   0   0   0   0   0   0   0   0   0   0   0  16  93 252\n",
            "  253 187   0   0   0   0   0   0   0   0]\n",
            " [  0   0   0   0   0   0   0   0   0   0   0   0   0   0   0   0   0 249\n",
            "  253 249  64   0   0   0   0   0   0   0]\n",
            " [  0   0   0   0   0   0   0   0   0   0   0   0   0   0  46 130 183 253\n",
            "  253 207   2   0   0   0   0   0   0   0]\n",
            " [  0   0   0   0   0   0   0   0   0   0   0   0  39 148 229 253 253 253\n",
            "  250 182   0   0   0   0   0   0   0   0]\n",
            " [  0   0   0   0   0   0   0   0   0   0  24 114 221 253 253 253 253 201\n",
            "   78   0   0   0   0   0   0   0   0   0]\n",
            " [  0   0   0   0   0   0   0   0  23  66 213 253 253 253 253 198  81   2\n",
            "    0   0   0   0   0   0   0   0   0   0]\n",
            " [  0   0   0   0   0   0  18 171 219 253 253 253 253 195  80   9   0   0\n",
            "    0   0   0   0   0   0   0   0   0   0]\n",
            " [  0   0   0   0  55 172 226 253 253 253 253 244 133  11   0   0   0   0\n",
            "    0   0   0   0   0   0   0   0   0   0]\n",
            " [  0   0   0   0 136 253 253 253 212 135 132  16   0   0   0   0   0   0\n",
            "    0   0   0   0   0   0   0   0   0   0]\n",
            " [  0   0   0   0   0   0   0   0   0   0   0   0   0   0   0   0   0   0\n",
            "    0   0   0   0   0   0   0   0   0   0]\n",
            " [  0   0   0   0   0   0   0   0   0   0   0   0   0   0   0   0   0   0\n",
            "    0   0   0   0   0   0   0   0   0   0]\n",
            " [  0   0   0   0   0   0   0   0   0   0   0   0   0   0   0   0   0   0\n",
            "    0   0   0   0   0   0   0   0   0   0]]\n"
          ],
          "name": "stdout"
        }
      ]
    },
    {
      "cell_type": "code",
      "metadata": {
        "id": "ggxsfE2VMt1Y",
        "colab_type": "code",
        "colab": {
          "base_uri": "https://localhost:8080/",
          "height": 54
        },
        "outputId": "6fe3c97c-10fc-466f-9b61-2a71efa9b084"
      },
      "source": [
        "print(\"Number of training examples :\", X_train.shape[0], \"and each image is of shape (%d, %d)\"%(X_train.shape[1], X_train.shape[2]))\n",
        "print(\"Number of test examples :\", X_test.shape[0], \"and each image is of shape (%d, %d)\"%(X_test.shape[1], X_test.shape[2]))"
      ],
      "execution_count": 5,
      "outputs": [
        {
          "output_type": "stream",
          "text": [
            "Number of training examples : 60000 and each image is of shape (28, 28)\n",
            "Number of test examples : 10000 and each image is of shape (28, 28)\n"
          ],
          "name": "stdout"
        }
      ]
    },
    {
      "cell_type": "code",
      "metadata": {
        "id": "CHS24S00Mw5B",
        "colab_type": "code",
        "colab": {}
      },
      "source": [
        "# if you observe the input shape its 2 dimensional vector\n",
        "# for each image we have a (28*28) vector\n",
        "# we will convert the (28*28) vector into single dimensional vector of 1 * 784 \n",
        "\n",
        "X_train = X_train.reshape(X_train.shape[0], X_train.shape[1]*X_train.shape[2]) \n",
        "X_test = X_test.reshape(X_test.shape[0], X_test.shape[1]*X_test.shape[2]) "
      ],
      "execution_count": 0,
      "outputs": []
    },
    {
      "cell_type": "code",
      "metadata": {
        "id": "GMHsJ8FMNYaI",
        "colab_type": "code",
        "colab": {
          "base_uri": "https://localhost:8080/",
          "height": 54
        },
        "outputId": "eb3f02dd-89b0-43a8-b9f0-c04305e0ca53"
      },
      "source": [
        "# after converting the input images from 3d to 2d vectors\n",
        "\n",
        "print(\"Number of training examples :\", X_train.shape[0], \"and each image is of shape (%d)\"%(X_train.shape[1]))\n",
        "print(\"Number of test examples :\", X_test.shape[0], \"and each image is of shape (%d)\"%(X_test.shape[1]))"
      ],
      "execution_count": 7,
      "outputs": [
        {
          "output_type": "stream",
          "text": [
            "Number of training examples : 60000 and each image is of shape (784)\n",
            "Number of test examples : 10000 and each image is of shape (784)\n"
          ],
          "name": "stdout"
        }
      ]
    },
    {
      "cell_type": "code",
      "metadata": {
        "id": "pLfYwuV4Nd7b",
        "colab_type": "code",
        "colab": {
          "base_uri": "https://localhost:8080/",
          "height": 825
        },
        "outputId": "bea1f8d6-ff68-41ac-bc5e-65f822712a75"
      },
      "source": [
        "# Printing a data point\n",
        "print(X_train[0])"
      ],
      "execution_count": 8,
      "outputs": [
        {
          "output_type": "stream",
          "text": [
            "[  0   0   0   0   0   0   0   0   0   0   0   0   0   0   0   0   0   0\n",
            "   0   0   0   0   0   0   0   0   0   0   0   0   0   0   0   0   0   0\n",
            "   0   0   0   0   0   0   0   0   0   0   0   0   0   0   0   0   0   0\n",
            "   0   0   0   0   0   0   0   0   0   0   0   0   0   0   0   0   0   0\n",
            "   0   0   0   0   0   0   0   0   0   0   0   0   0   0   0   0   0   0\n",
            "   0   0   0   0   0   0   0   0   0   0   0   0   0   0   0   0   0   0\n",
            "   0   0   0   0   0   0   0   0   0   0   0   0   0   0   0   0   0   0\n",
            "   0   0   0   0   0   0   0   0   0   0   0   0   0   0   0   0   0   0\n",
            "   0   0   0   0   0   0   0   0   3  18  18  18 126 136 175  26 166 255\n",
            " 247 127   0   0   0   0   0   0   0   0   0   0   0   0  30  36  94 154\n",
            " 170 253 253 253 253 253 225 172 253 242 195  64   0   0   0   0   0   0\n",
            "   0   0   0   0   0  49 238 253 253 253 253 253 253 253 253 251  93  82\n",
            "  82  56  39   0   0   0   0   0   0   0   0   0   0   0   0  18 219 253\n",
            " 253 253 253 253 198 182 247 241   0   0   0   0   0   0   0   0   0   0\n",
            "   0   0   0   0   0   0   0   0  80 156 107 253 253 205  11   0  43 154\n",
            "   0   0   0   0   0   0   0   0   0   0   0   0   0   0   0   0   0   0\n",
            "   0  14   1 154 253  90   0   0   0   0   0   0   0   0   0   0   0   0\n",
            "   0   0   0   0   0   0   0   0   0   0   0   0   0 139 253 190   2   0\n",
            "   0   0   0   0   0   0   0   0   0   0   0   0   0   0   0   0   0   0\n",
            "   0   0   0   0   0  11 190 253  70   0   0   0   0   0   0   0   0   0\n",
            "   0   0   0   0   0   0   0   0   0   0   0   0   0   0   0   0  35 241\n",
            " 225 160 108   1   0   0   0   0   0   0   0   0   0   0   0   0   0   0\n",
            "   0   0   0   0   0   0   0   0   0  81 240 253 253 119  25   0   0   0\n",
            "   0   0   0   0   0   0   0   0   0   0   0   0   0   0   0   0   0   0\n",
            "   0   0  45 186 253 253 150  27   0   0   0   0   0   0   0   0   0   0\n",
            "   0   0   0   0   0   0   0   0   0   0   0   0   0  16  93 252 253 187\n",
            "   0   0   0   0   0   0   0   0   0   0   0   0   0   0   0   0   0   0\n",
            "   0   0   0   0   0   0   0 249 253 249  64   0   0   0   0   0   0   0\n",
            "   0   0   0   0   0   0   0   0   0   0   0   0   0   0  46 130 183 253\n",
            " 253 207   2   0   0   0   0   0   0   0   0   0   0   0   0   0   0   0\n",
            "   0   0   0   0  39 148 229 253 253 253 250 182   0   0   0   0   0   0\n",
            "   0   0   0   0   0   0   0   0   0   0   0   0  24 114 221 253 253 253\n",
            " 253 201  78   0   0   0   0   0   0   0   0   0   0   0   0   0   0   0\n",
            "   0   0  23  66 213 253 253 253 253 198  81   2   0   0   0   0   0   0\n",
            "   0   0   0   0   0   0   0   0   0   0  18 171 219 253 253 253 253 195\n",
            "  80   9   0   0   0   0   0   0   0   0   0   0   0   0   0   0   0   0\n",
            "  55 172 226 253 253 253 253 244 133  11   0   0   0   0   0   0   0   0\n",
            "   0   0   0   0   0   0   0   0   0   0 136 253 253 253 212 135 132  16\n",
            "   0   0   0   0   0   0   0   0   0   0   0   0   0   0   0   0   0   0\n",
            "   0   0   0   0   0   0   0   0   0   0   0   0   0   0   0   0   0   0\n",
            "   0   0   0   0   0   0   0   0   0   0   0   0   0   0   0   0   0   0\n",
            "   0   0   0   0   0   0   0   0   0   0   0   0   0   0   0   0   0   0\n",
            "   0   0   0   0   0   0   0   0   0   0   0   0   0   0   0   0   0   0\n",
            "   0   0   0   0   0   0   0   0   0   0]\n"
          ],
          "name": "stdout"
        }
      ]
    },
    {
      "cell_type": "code",
      "metadata": {
        "id": "hUlYsYngNkxM",
        "colab_type": "code",
        "colab": {}
      },
      "source": [
        "# if we observe the above matrix each cell is having a value between 0-255\n",
        "# before we move to apply machine learning algorithms lets try to normalize the data\n",
        "# X => (X - Xmin)/(Xmax-Xmin) = X/255\n",
        "# Data Normalization\n",
        "\n",
        "X_train = X_train/255\n",
        "X_test = X_test/255"
      ],
      "execution_count": 0,
      "outputs": []
    },
    {
      "cell_type": "code",
      "metadata": {
        "id": "-LnEYemoOLD1",
        "colab_type": "code",
        "colab": {
          "base_uri": "https://localhost:8080/",
          "height": 2423
        },
        "outputId": "8074d9d5-4cd8-4839-9ee7-b1c45c1d4dcb"
      },
      "source": [
        "# Printing a data point after data normalization\n",
        "print(X_train[0])"
      ],
      "execution_count": 10,
      "outputs": [
        {
          "output_type": "stream",
          "text": [
            "[0.         0.         0.         0.         0.         0.\n",
            " 0.         0.         0.         0.         0.         0.\n",
            " 0.         0.         0.         0.         0.         0.\n",
            " 0.         0.         0.         0.         0.         0.\n",
            " 0.         0.         0.         0.         0.         0.\n",
            " 0.         0.         0.         0.         0.         0.\n",
            " 0.         0.         0.         0.         0.         0.\n",
            " 0.         0.         0.         0.         0.         0.\n",
            " 0.         0.         0.         0.         0.         0.\n",
            " 0.         0.         0.         0.         0.         0.\n",
            " 0.         0.         0.         0.         0.         0.\n",
            " 0.         0.         0.         0.         0.         0.\n",
            " 0.         0.         0.         0.         0.         0.\n",
            " 0.         0.         0.         0.         0.         0.\n",
            " 0.         0.         0.         0.         0.         0.\n",
            " 0.         0.         0.         0.         0.         0.\n",
            " 0.         0.         0.         0.         0.         0.\n",
            " 0.         0.         0.         0.         0.         0.\n",
            " 0.         0.         0.         0.         0.         0.\n",
            " 0.         0.         0.         0.         0.         0.\n",
            " 0.         0.         0.         0.         0.         0.\n",
            " 0.         0.         0.         0.         0.         0.\n",
            " 0.         0.         0.         0.         0.         0.\n",
            " 0.         0.         0.         0.         0.         0.\n",
            " 0.         0.         0.         0.         0.         0.\n",
            " 0.         0.         0.01176471 0.07058824 0.07058824 0.07058824\n",
            " 0.49411765 0.53333333 0.68627451 0.10196078 0.65098039 1.\n",
            " 0.96862745 0.49803922 0.         0.         0.         0.\n",
            " 0.         0.         0.         0.         0.         0.\n",
            " 0.         0.         0.11764706 0.14117647 0.36862745 0.60392157\n",
            " 0.66666667 0.99215686 0.99215686 0.99215686 0.99215686 0.99215686\n",
            " 0.88235294 0.6745098  0.99215686 0.94901961 0.76470588 0.25098039\n",
            " 0.         0.         0.         0.         0.         0.\n",
            " 0.         0.         0.         0.         0.         0.19215686\n",
            " 0.93333333 0.99215686 0.99215686 0.99215686 0.99215686 0.99215686\n",
            " 0.99215686 0.99215686 0.99215686 0.98431373 0.36470588 0.32156863\n",
            " 0.32156863 0.21960784 0.15294118 0.         0.         0.\n",
            " 0.         0.         0.         0.         0.         0.\n",
            " 0.         0.         0.         0.07058824 0.85882353 0.99215686\n",
            " 0.99215686 0.99215686 0.99215686 0.99215686 0.77647059 0.71372549\n",
            " 0.96862745 0.94509804 0.         0.         0.         0.\n",
            " 0.         0.         0.         0.         0.         0.\n",
            " 0.         0.         0.         0.         0.         0.\n",
            " 0.         0.         0.31372549 0.61176471 0.41960784 0.99215686\n",
            " 0.99215686 0.80392157 0.04313725 0.         0.16862745 0.60392157\n",
            " 0.         0.         0.         0.         0.         0.\n",
            " 0.         0.         0.         0.         0.         0.\n",
            " 0.         0.         0.         0.         0.         0.\n",
            " 0.         0.05490196 0.00392157 0.60392157 0.99215686 0.35294118\n",
            " 0.         0.         0.         0.         0.         0.\n",
            " 0.         0.         0.         0.         0.         0.\n",
            " 0.         0.         0.         0.         0.         0.\n",
            " 0.         0.         0.         0.         0.         0.\n",
            " 0.         0.54509804 0.99215686 0.74509804 0.00784314 0.\n",
            " 0.         0.         0.         0.         0.         0.\n",
            " 0.         0.         0.         0.         0.         0.\n",
            " 0.         0.         0.         0.         0.         0.\n",
            " 0.         0.         0.         0.         0.         0.04313725\n",
            " 0.74509804 0.99215686 0.2745098  0.         0.         0.\n",
            " 0.         0.         0.         0.         0.         0.\n",
            " 0.         0.         0.         0.         0.         0.\n",
            " 0.         0.         0.         0.         0.         0.\n",
            " 0.         0.         0.         0.         0.1372549  0.94509804\n",
            " 0.88235294 0.62745098 0.42352941 0.00392157 0.         0.\n",
            " 0.         0.         0.         0.         0.         0.\n",
            " 0.         0.         0.         0.         0.         0.\n",
            " 0.         0.         0.         0.         0.         0.\n",
            " 0.         0.         0.         0.31764706 0.94117647 0.99215686\n",
            " 0.99215686 0.46666667 0.09803922 0.         0.         0.\n",
            " 0.         0.         0.         0.         0.         0.\n",
            " 0.         0.         0.         0.         0.         0.\n",
            " 0.         0.         0.         0.         0.         0.\n",
            " 0.         0.         0.17647059 0.72941176 0.99215686 0.99215686\n",
            " 0.58823529 0.10588235 0.         0.         0.         0.\n",
            " 0.         0.         0.         0.         0.         0.\n",
            " 0.         0.         0.         0.         0.         0.\n",
            " 0.         0.         0.         0.         0.         0.\n",
            " 0.         0.0627451  0.36470588 0.98823529 0.99215686 0.73333333\n",
            " 0.         0.         0.         0.         0.         0.\n",
            " 0.         0.         0.         0.         0.         0.\n",
            " 0.         0.         0.         0.         0.         0.\n",
            " 0.         0.         0.         0.         0.         0.\n",
            " 0.         0.97647059 0.99215686 0.97647059 0.25098039 0.\n",
            " 0.         0.         0.         0.         0.         0.\n",
            " 0.         0.         0.         0.         0.         0.\n",
            " 0.         0.         0.         0.         0.         0.\n",
            " 0.         0.         0.18039216 0.50980392 0.71764706 0.99215686\n",
            " 0.99215686 0.81176471 0.00784314 0.         0.         0.\n",
            " 0.         0.         0.         0.         0.         0.\n",
            " 0.         0.         0.         0.         0.         0.\n",
            " 0.         0.         0.         0.         0.15294118 0.58039216\n",
            " 0.89803922 0.99215686 0.99215686 0.99215686 0.98039216 0.71372549\n",
            " 0.         0.         0.         0.         0.         0.\n",
            " 0.         0.         0.         0.         0.         0.\n",
            " 0.         0.         0.         0.         0.         0.\n",
            " 0.09411765 0.44705882 0.86666667 0.99215686 0.99215686 0.99215686\n",
            " 0.99215686 0.78823529 0.30588235 0.         0.         0.\n",
            " 0.         0.         0.         0.         0.         0.\n",
            " 0.         0.         0.         0.         0.         0.\n",
            " 0.         0.         0.09019608 0.25882353 0.83529412 0.99215686\n",
            " 0.99215686 0.99215686 0.99215686 0.77647059 0.31764706 0.00784314\n",
            " 0.         0.         0.         0.         0.         0.\n",
            " 0.         0.         0.         0.         0.         0.\n",
            " 0.         0.         0.         0.         0.07058824 0.67058824\n",
            " 0.85882353 0.99215686 0.99215686 0.99215686 0.99215686 0.76470588\n",
            " 0.31372549 0.03529412 0.         0.         0.         0.\n",
            " 0.         0.         0.         0.         0.         0.\n",
            " 0.         0.         0.         0.         0.         0.\n",
            " 0.21568627 0.6745098  0.88627451 0.99215686 0.99215686 0.99215686\n",
            " 0.99215686 0.95686275 0.52156863 0.04313725 0.         0.\n",
            " 0.         0.         0.         0.         0.         0.\n",
            " 0.         0.         0.         0.         0.         0.\n",
            " 0.         0.         0.         0.         0.53333333 0.99215686\n",
            " 0.99215686 0.99215686 0.83137255 0.52941176 0.51764706 0.0627451\n",
            " 0.         0.         0.         0.         0.         0.\n",
            " 0.         0.         0.         0.         0.         0.\n",
            " 0.         0.         0.         0.         0.         0.\n",
            " 0.         0.         0.         0.         0.         0.\n",
            " 0.         0.         0.         0.         0.         0.\n",
            " 0.         0.         0.         0.         0.         0.\n",
            " 0.         0.         0.         0.         0.         0.\n",
            " 0.         0.         0.         0.         0.         0.\n",
            " 0.         0.         0.         0.         0.         0.\n",
            " 0.         0.         0.         0.         0.         0.\n",
            " 0.         0.         0.         0.         0.         0.\n",
            " 0.         0.         0.         0.         0.         0.\n",
            " 0.         0.         0.         0.         0.         0.\n",
            " 0.         0.         0.         0.         0.         0.\n",
            " 0.         0.         0.         0.         0.         0.\n",
            " 0.         0.         0.         0.         0.         0.\n",
            " 0.         0.         0.         0.        ]\n"
          ],
          "name": "stdout"
        }
      ]
    },
    {
      "cell_type": "code",
      "metadata": {
        "id": "LosHCHqEOQ9Q",
        "colab_type": "code",
        "colab": {
          "base_uri": "https://localhost:8080/",
          "height": 90
        },
        "outputId": "7b43a408-ed81-460b-826f-90af6f865b02"
      },
      "source": [
        "# getting total number of labels of the datasets\n",
        "print(\"Total number of labels in training dataset: \",np.unique(y_train))\n",
        "print(\"Total number of labels in training dataset: \",np.unique(y_test))\n",
        "\n",
        "# here we are having a class number for each image\n",
        "print(\"Class label of first image :\", y_train[0])\n",
        "\n",
        "# lets convert this into a 10 dimensional vector\n",
        "# ex: consider an image is 5 convert it into 5 => [0, 0, 0, 0, 0, 1, 0, 0, 0, 0]\n",
        "# this conversion needed for MLPs \n",
        "# np.utlis.to_categorical usually does one hot encoding\n",
        "Y_train = np_utils.to_categorical(y_train, 10) \n",
        "Y_test = np_utils.to_categorical(y_test, 10)\n",
        "\n",
        "print(\"After converting the output into a vector : \",Y_train[0])"
      ],
      "execution_count": 11,
      "outputs": [
        {
          "output_type": "stream",
          "text": [
            "Total number of labels in training dataset:  [0 1 2 3 4 5 6 7 8 9]\n",
            "Total number of labels in training dataset:  [0 1 2 3 4 5 6 7 8 9]\n",
            "Class label of first image : 5\n",
            "After converting the output into a vector :  [0. 0. 0. 0. 0. 1. 0. 0. 0. 0.]\n"
          ],
          "name": "stdout"
        }
      ]
    },
    {
      "cell_type": "markdown",
      "metadata": {
        "id": "har5UkKcW3B6",
        "colab_type": "text"
      },
      "source": [
        "<h3>SoftMax Classifier</h3>"
      ]
    },
    {
      "cell_type": "code",
      "metadata": {
        "id": "VZiZ1za0PGu1",
        "colab_type": "code",
        "colab": {}
      },
      "source": [
        "# https://keras.io/getting-started/sequential-model-guide/\n",
        "\n",
        "# The Sequential model is a linear stack of layers.\n",
        "# you can create a Sequential model by passing a list of layer instances to the constructor:\n",
        "\n",
        "# model = Sequential([\n",
        "#     Dense(32, input_shape=(784,)),\n",
        "#     Activation('relu'),\n",
        "#     Dense(10),\n",
        "#     Activation('softmax'),\n",
        "# ])\n",
        "\n",
        "# You can also simply add layers via the .add() method:\n",
        "\n",
        "# model = Sequential()\n",
        "# model.add(Dense(32, input_dim=784))\n",
        "# model.add(Activation('relu'))\n",
        "\n",
        "###\n",
        "\n",
        "# https://keras.io/layers/core/\n",
        "\n",
        "# keras.layers.Dense(units, activation=None, use_bias=True, kernel_initializer='glorot_uniform', \n",
        "# bias_initializer='zeros', kernel_regularizer=None, bias_regularizer=None, activity_regularizer=None, \n",
        "# kernel_constraint=None, bias_constraint=None)\n",
        "\n",
        "# Dense implements the operation: output = activation(dot(input, kernel) + bias) where\n",
        "# activation is the element-wise activation function passed as the activation argument, \n",
        "# kernel is a weights matrix created by the layer, and \n",
        "# bias is a bias vector created by the layer (only applicable if use_bias is True).\n",
        "\n",
        "# output = activation(dot(input, kernel) + bias)  => y = activation(WT. X + b)\n",
        "\n",
        "####\n",
        "\n",
        "# https://keras.io/activations/\n",
        "\n",
        "# Activations can either be used through an Activation layer, or through the activation argument supported by all forward layers:\n",
        "\n",
        "# from keras.layers import Activation, Dense\n",
        "\n",
        "# model.add(Dense(64))\n",
        "# model.add(Activation('tanh'))\n",
        "\n",
        "# This is equivalent to:\n",
        "# model.add(Dense(64, activation='tanh'))\n",
        "\n",
        "# there are many activation functions ar available ex: tanh, relu, softmax\n",
        "\n",
        "\n",
        "from keras.models import Sequential \n",
        "from keras.layers import Dense, Activation "
      ],
      "execution_count": 0,
      "outputs": []
    },
    {
      "cell_type": "code",
      "metadata": {
        "id": "ya55Cm7ZYjLK",
        "colab_type": "code",
        "colab": {}
      },
      "source": [
        "# Model Parameters\n",
        "output_dim = 10\n",
        "input_dim = X_train.shape[1]\n",
        "batch_size =128\n",
        "nb_epoch = 20"
      ],
      "execution_count": 0,
      "outputs": []
    },
    {
      "cell_type": "code",
      "metadata": {
        "id": "unw9CEQVY8Rw",
        "colab_type": "code",
        "colab": {
          "base_uri": "https://localhost:8080/",
          "height": 92
        },
        "outputId": "a25b3de6-9c99-4754-c790-dd9a6972b808"
      },
      "source": [
        "# Building the Model\n",
        "model = Sequential()\n",
        "# The model needs to know what input shape it should expect. \n",
        "# For this reason, the first layer in a Sequential model \n",
        "# (and only the first, because following layers can do automatic shape inference)\n",
        "# needs to receive information about its input shape. \n",
        "# you can use input_shape and input_dim to pass the shape of input\n",
        "\n",
        "# output_dim represent the number of nodes need in that layer\n",
        "# here we have 10 nodes\n",
        "model.add(Dense(output_dim,input_dim=input_dim,activation='softmax'))\n"
      ],
      "execution_count": 14,
      "outputs": [
        {
          "output_type": "stream",
          "text": [
            "WARNING:tensorflow:From /usr/local/lib/python3.6/dist-packages/tensorflow/python/framework/op_def_library.py:263: colocate_with (from tensorflow.python.framework.ops) is deprecated and will be removed in a future version.\n",
            "Instructions for updating:\n",
            "Colocations handled automatically by placer.\n"
          ],
          "name": "stdout"
        }
      ]
    },
    {
      "cell_type": "code",
      "metadata": {
        "id": "YNg4NgU7ZvB9",
        "colab_type": "code",
        "colab": {
          "base_uri": "https://localhost:8080/",
          "height": 845
        },
        "outputId": "83e7e880-354f-4903-dc46-313f9e7dcb09"
      },
      "source": [
        "# Before training a model, you need to configure the learning process, which is done via the compile method\n",
        "\n",
        "# It receives three arguments:\n",
        "# An optimizer. This could be the string identifier of an existing optimizer , https://keras.io/optimizers/\n",
        "# A loss function. This is the objective that the model will try to minimize., https://keras.io/losses/\n",
        "# A list of metrics. For any classification problem you will want to set this to metrics=['accuracy'].  https://keras.io/metrics/\n",
        "\n",
        "\n",
        "# Note: when using the categorical_crossentropy loss, your targets should be in categorical format \n",
        "# (e.g. if you have 10 classes, the target for each sample should be a 10-dimensional vector that is all-zeros except \n",
        "# for a 1 at the index corresponding to the class of the sample).\n",
        "\n",
        "# that is why we converted out labels into vectors\n",
        "\n",
        "model.compile(optimizer='sgd', loss='categorical_crossentropy', metrics=['accuracy'])\n",
        "\n",
        "# Keras models are trained on Numpy arrays of input data and labels. \n",
        "# For training a model, you will typically use the  fit function\n",
        "\n",
        "# fit(self, x=None, y=None, batch_size=None, epochs=1, verbose=1, callbacks=None, validation_split=0.0, \n",
        "# validation_data=None, shuffle=True, class_weight=None, sample_weight=None, initial_epoch=0, steps_per_epoch=None, \n",
        "# validation_steps=None)\n",
        "\n",
        "# fit() function Trains the model for a fixed number of epochs (iterations on a dataset).\n",
        "\n",
        "# it returns A History object. Its History.history attribute is a record of training loss values and \n",
        "# metrics values at successive epochs, as well as validation loss values and validation metrics values (if applicable).\n",
        "\n",
        "# https://github.com/openai/baselines/issues/20\n",
        "\n",
        "history = model.fit(X_train, Y_train, batch_size=batch_size, epochs=nb_epoch, verbose=1, validation_data=(X_test, Y_test)) \n"
      ],
      "execution_count": 15,
      "outputs": [
        {
          "output_type": "stream",
          "text": [
            "WARNING:tensorflow:From /usr/local/lib/python3.6/dist-packages/tensorflow/python/ops/math_ops.py:3066: to_int32 (from tensorflow.python.ops.math_ops) is deprecated and will be removed in a future version.\n",
            "Instructions for updating:\n",
            "Use tf.cast instead.\n",
            "Train on 60000 samples, validate on 10000 samples\n",
            "Epoch 1/20\n",
            "60000/60000 [==============================] - 2s 38us/step - loss: 1.2929 - acc: 0.6912 - val_loss: 0.8179 - val_acc: 0.8326\n",
            "Epoch 2/20\n",
            "60000/60000 [==============================] - 1s 21us/step - loss: 0.7182 - acc: 0.8388 - val_loss: 0.6111 - val_acc: 0.8626\n",
            "Epoch 3/20\n",
            "60000/60000 [==============================] - 1s 21us/step - loss: 0.5884 - acc: 0.8580 - val_loss: 0.5282 - val_acc: 0.8746\n",
            "Epoch 4/20\n",
            "60000/60000 [==============================] - 1s 21us/step - loss: 0.5265 - acc: 0.8684 - val_loss: 0.4818 - val_acc: 0.8805\n",
            "Epoch 5/20\n",
            "60000/60000 [==============================] - 1s 21us/step - loss: 0.4886 - acc: 0.8747 - val_loss: 0.4520 - val_acc: 0.8846\n",
            "Epoch 6/20\n",
            "60000/60000 [==============================] - 1s 21us/step - loss: 0.4628 - acc: 0.8795 - val_loss: 0.4303 - val_acc: 0.8887\n",
            "Epoch 7/20\n",
            "60000/60000 [==============================] - 1s 21us/step - loss: 0.4436 - acc: 0.8833 - val_loss: 0.4141 - val_acc: 0.8910\n",
            "Epoch 8/20\n",
            "60000/60000 [==============================] - 1s 21us/step - loss: 0.4287 - acc: 0.8859 - val_loss: 0.4013 - val_acc: 0.8937\n",
            "Epoch 9/20\n",
            "60000/60000 [==============================] - 1s 21us/step - loss: 0.4166 - acc: 0.8885 - val_loss: 0.3910 - val_acc: 0.8961\n",
            "Epoch 10/20\n",
            "60000/60000 [==============================] - 1s 21us/step - loss: 0.4066 - acc: 0.8907 - val_loss: 0.3824 - val_acc: 0.8983\n",
            "Epoch 11/20\n",
            "60000/60000 [==============================] - 1s 21us/step - loss: 0.3982 - acc: 0.8926 - val_loss: 0.3749 - val_acc: 0.9005\n",
            "Epoch 12/20\n",
            "60000/60000 [==============================] - 1s 22us/step - loss: 0.3909 - acc: 0.8941 - val_loss: 0.3681 - val_acc: 0.9017\n",
            "Epoch 13/20\n",
            "60000/60000 [==============================] - 1s 21us/step - loss: 0.3845 - acc: 0.8954 - val_loss: 0.3627 - val_acc: 0.9030\n",
            "Epoch 14/20\n",
            "60000/60000 [==============================] - 1s 21us/step - loss: 0.3788 - acc: 0.8971 - val_loss: 0.3578 - val_acc: 0.9047\n",
            "Epoch 15/20\n",
            "60000/60000 [==============================] - 1s 21us/step - loss: 0.3738 - acc: 0.8980 - val_loss: 0.3533 - val_acc: 0.9054\n",
            "Epoch 16/20\n",
            "60000/60000 [==============================] - 1s 21us/step - loss: 0.3693 - acc: 0.8990 - val_loss: 0.3494 - val_acc: 0.9059\n",
            "Epoch 17/20\n",
            "60000/60000 [==============================] - 1s 21us/step - loss: 0.3652 - acc: 0.9000 - val_loss: 0.3460 - val_acc: 0.9068\n",
            "Epoch 18/20\n",
            "60000/60000 [==============================] - 1s 21us/step - loss: 0.3614 - acc: 0.9008 - val_loss: 0.3426 - val_acc: 0.9073\n",
            "Epoch 19/20\n",
            "60000/60000 [==============================] - 1s 21us/step - loss: 0.3580 - acc: 0.9017 - val_loss: 0.3394 - val_acc: 0.9084\n",
            "Epoch 20/20\n",
            "60000/60000 [==============================] - 1s 21us/step - loss: 0.3548 - acc: 0.9021 - val_loss: 0.3369 - val_acc: 0.9092\n"
          ],
          "name": "stdout"
        }
      ]
    },
    {
      "cell_type": "code",
      "metadata": {
        "id": "Ob0LTv0QaHKJ",
        "colab_type": "code",
        "colab": {
          "base_uri": "https://localhost:8080/",
          "height": 320
        },
        "outputId": "674d1906-3b50-49da-c302-f35e257f0d60"
      },
      "source": [
        "score = model.evaluate(X_test, Y_test, verbose=0) \n",
        "print('Test score:', score[0]) \n",
        "print('Test accuracy:', score[1])\n",
        "\n",
        "fig,ax = plt.subplots(1,1)\n",
        "ax.set_xlabel('epoch') ; ax.set_ylabel('Categorical Crossentropy Loss')\n",
        "\n",
        "# list of epoch numbers\n",
        "x = list(range(1,nb_epoch+1))\n",
        "\n",
        "# print(history.history.keys())\n",
        "# dict_keys(['val_loss', 'val_acc', 'loss', 'acc'])\n",
        "# history = model_drop.fit(X_train, Y_train, batch_size=batch_size, epochs=nb_epoch, verbose=1, validation_data=(X_test, Y_test))\n",
        "\n",
        "# we will get val_loss and val_acc only when you pass the paramter validation_data\n",
        "# val_loss : validation loss\n",
        "# val_acc : validation accuracy\n",
        "\n",
        "# loss : training loss\n",
        "# acc : train accuracy\n",
        "# for each key in histrory.histrory we will have a list of length equal to number of epochs\n",
        "\n",
        "vy = history.history['val_loss']\n",
        "ty = history.history['loss']\n",
        "plt_dynamic(x, vy, ty, ax)"
      ],
      "execution_count": 16,
      "outputs": [
        {
          "output_type": "stream",
          "text": [
            "Test score: 0.3368550027549267\n",
            "Test accuracy: 0.9092\n"
          ],
          "name": "stdout"
        },
        {
          "output_type": "display_data",
          "data": {
            "image/png": "[encoded data removed]",
            "text/plain": [
              "<Figure size 432x288 with 1 Axes>"
            ]
          },
          "metadata": {
            "tags": []
          }
        }
      ]
    },
    {
      "cell_type": "markdown",
      "metadata": {
        "id": "eh4VWYrHQKbz",
        "colab_type": "text"
      },
      "source": [
        " <h3>  MLP + Sigmoid activation + SGDOptimizer </h3>"
      ]
    },
    {
      "cell_type": "code",
      "metadata": {
        "id": "WrK9Pqwvaemx",
        "colab_type": "code",
        "colab": {
          "base_uri": "https://localhost:8080/",
          "height": 256
        },
        "outputId": "d1ca8df1-854a-4e34-8ea4-823e285b7a5e"
      },
      "source": [
        "# Multilayer perceptron\n",
        "\n",
        "model_sigmoid = Sequential()\n",
        "# Adding Hidden Layer 1\n",
        "model_sigmoid.add(Dense(512, activation='sigmoid', input_shape=(input_dim,)))\n",
        "# Adding Hidden Layer 2\n",
        "model_sigmoid.add(Dense(128, activation='sigmoid'))\n",
        "# Adding Output Layer\n",
        "model_sigmoid.add(Dense(output_dim, activation='softmax'))\n",
        "\n",
        "model_sigmoid.summary()"
      ],
      "execution_count": 17,
      "outputs": [
        {
          "output_type": "stream",
          "text": [
            "_________________________________________________________________\n",
            "Layer (type)                 Output Shape              Param #   \n",
            "=================================================================\n",
            "dense_2 (Dense)              (None, 512)               401920    \n",
            "_________________________________________________________________\n",
            "dense_3 (Dense)              (None, 128)               65664     \n",
            "_________________________________________________________________\n",
            "dense_4 (Dense)              (None, 10)                1290      \n",
            "=================================================================\n",
            "Total params: 468,874\n",
            "Trainable params: 468,874\n",
            "Non-trainable params: 0\n",
            "_________________________________________________________________\n"
          ],
          "name": "stdout"
        }
      ]
    },
    {
      "cell_type": "code",
      "metadata": {
        "id": "rxPifi6YbVQJ",
        "colab_type": "code",
        "colab": {
          "base_uri": "https://localhost:8080/",
          "height": 770
        },
        "outputId": "5e68bab8-1e08-4ee0-81a0-13090b82de06"
      },
      "source": [
        "model_sigmoid.compile(optimizer='sgd', loss='categorical_crossentropy', metrics=['accuracy'])\n",
        "\n",
        "history = model_sigmoid.fit(X_train, Y_train, batch_size=batch_size, epochs=nb_epoch, verbose=1, validation_data=(X_test, Y_test))"
      ],
      "execution_count": 18,
      "outputs": [
        {
          "output_type": "stream",
          "text": [
            "Train on 60000 samples, validate on 10000 samples\n",
            "Epoch 1/20\n",
            "60000/60000 [==============================] - 2s 27us/step - loss: 2.2660 - acc: 0.2328 - val_loss: 2.2221 - val_acc: 0.3745\n",
            "Epoch 2/20\n",
            "60000/60000 [==============================] - 2s 25us/step - loss: 2.1809 - acc: 0.4606 - val_loss: 2.1281 - val_acc: 0.4976\n",
            "Epoch 3/20\n",
            "60000/60000 [==============================] - 1s 25us/step - loss: 2.0693 - acc: 0.5730 - val_loss: 1.9905 - val_acc: 0.6107\n",
            "Epoch 4/20\n",
            "60000/60000 [==============================] - 1s 25us/step - loss: 1.9074 - acc: 0.6333 - val_loss: 1.7955 - val_acc: 0.6602\n",
            "Epoch 5/20\n",
            "60000/60000 [==============================] - 1s 25us/step - loss: 1.6915 - acc: 0.6744 - val_loss: 1.5572 - val_acc: 0.7339\n",
            "Epoch 6/20\n",
            "60000/60000 [==============================] - 1s 25us/step - loss: 1.4540 - acc: 0.7159 - val_loss: 1.3243 - val_acc: 0.7661\n",
            "Epoch 7/20\n",
            "60000/60000 [==============================] - 1s 25us/step - loss: 1.2419 - acc: 0.7535 - val_loss: 1.1329 - val_acc: 0.7702\n",
            "Epoch 8/20\n",
            "60000/60000 [==============================] - 1s 25us/step - loss: 1.0746 - acc: 0.7771 - val_loss: 0.9881 - val_acc: 0.7902\n",
            "Epoch 9/20\n",
            "60000/60000 [==============================] - 1s 25us/step - loss: 0.9480 - acc: 0.7957 - val_loss: 0.8786 - val_acc: 0.8013\n",
            "Epoch 10/20\n",
            "60000/60000 [==============================] - 1s 25us/step - loss: 0.8513 - acc: 0.8094 - val_loss: 0.7938 - val_acc: 0.8241\n",
            "Epoch 11/20\n",
            "60000/60000 [==============================] - 1s 25us/step - loss: 0.7760 - acc: 0.8207 - val_loss: 0.7270 - val_acc: 0.8324\n",
            "Epoch 12/20\n",
            "60000/60000 [==============================] - 1s 25us/step - loss: 0.7160 - acc: 0.8300 - val_loss: 0.6738 - val_acc: 0.8392\n",
            "Epoch 13/20\n",
            "60000/60000 [==============================] - 2s 25us/step - loss: 0.6674 - acc: 0.8380 - val_loss: 0.6294 - val_acc: 0.8475\n",
            "Epoch 14/20\n",
            "60000/60000 [==============================] - 1s 25us/step - loss: 0.6272 - acc: 0.8453 - val_loss: 0.5936 - val_acc: 0.8537\n",
            "Epoch 15/20\n",
            "60000/60000 [==============================] - 2s 25us/step - loss: 0.5937 - acc: 0.8506 - val_loss: 0.5633 - val_acc: 0.8582\n",
            "Epoch 16/20\n",
            "60000/60000 [==============================] - 1s 25us/step - loss: 0.5654 - acc: 0.8560 - val_loss: 0.5375 - val_acc: 0.8653\n",
            "Epoch 17/20\n",
            "60000/60000 [==============================] - 1s 25us/step - loss: 0.5412 - acc: 0.8611 - val_loss: 0.5149 - val_acc: 0.8669\n",
            "Epoch 18/20\n",
            "60000/60000 [==============================] - 2s 25us/step - loss: 0.5202 - acc: 0.8646 - val_loss: 0.4945 - val_acc: 0.8713\n",
            "Epoch 19/20\n",
            "60000/60000 [==============================] - 1s 25us/step - loss: 0.5019 - acc: 0.8688 - val_loss: 0.4780 - val_acc: 0.8749\n",
            "Epoch 20/20\n",
            "60000/60000 [==============================] - 1s 25us/step - loss: 0.4858 - acc: 0.8719 - val_loss: 0.4628 - val_acc: 0.8774\n"
          ],
          "name": "stdout"
        }
      ]
    },
    {
      "cell_type": "code",
      "metadata": {
        "id": "11WdgWfjeeUZ",
        "colab_type": "code",
        "colab": {
          "base_uri": "https://localhost:8080/",
          "height": 320
        },
        "outputId": "6d804718-be1d-4a56-c219-31c91be8691e"
      },
      "source": [
        "score = model_sigmoid.evaluate(X_test, Y_test, verbose=0) \n",
        "print('Test score:', score[0]) \n",
        "print('Test accuracy:', score[1])\n",
        "\n",
        "fig,ax = plt.subplots(1,1)\n",
        "ax.set_xlabel('epoch') ; ax.set_ylabel('Categorical Crossentropy Loss')\n",
        "\n",
        "# list of epoch numbers\n",
        "x = list(range(1,nb_epoch+1))\n",
        "\n",
        "# print(history.history.keys())\n",
        "# dict_keys(['val_loss', 'val_acc', 'loss', 'acc'])\n",
        "# history = model_drop.fit(X_train, Y_train, batch_size=batch_size, epochs=nb_epoch, verbose=1, validation_data=(X_test, Y_test))\n",
        "\n",
        "# we will get val_loss and val_acc only when you pass the paramter validation_data\n",
        "# val_loss : validation loss\n",
        "# val_acc : validation accuracy\n",
        "\n",
        "# loss : training loss\n",
        "# acc : train accuracy\n",
        "# for each key in histrory.histrory we will have a list of length equal to number of epochs\n",
        "\n",
        "vy = history.history['val_loss']\n",
        "ty = history.history['loss']\n",
        "plt_dynamic(x, vy, ty, ax)"
      ],
      "execution_count": 19,
      "outputs": [
        {
          "output_type": "stream",
          "text": [
            "Test score: 0.4627779685974121\n",
            "Test accuracy: 0.8774\n"
          ],
          "name": "stdout"
        },
        {
          "output_type": "display_data",
          "data": {
            "image/png": "[encoded data removed]",
            "text/plain": [
              "<Figure size 432x288 with 1 Axes>"
            ]
          },
          "metadata": {
            "tags": []
          }
        }
      ]
    },
    {
      "cell_type": "code",
      "metadata": {
        "id": "onPikxx9fGiu",
        "colab_type": "code",
        "colab": {
          "base_uri": "https://localhost:8080/",
          "height": 285
        },
        "outputId": "4db436d1-830c-4c2a-b9a9-8efe568fed00"
      },
      "source": [
        "w_after = model_sigmoid.get_weights()\n",
        "\n",
        "h1_w = w_after[0].flatten().reshape(-1,1)\n",
        "h2_w = w_after[2].flatten().reshape(-1,1)\n",
        "out_w = w_after[4].flatten().reshape(-1,1)\n",
        "\n",
        "\n",
        "fig = plt.figure()\n",
        "plt.title(\"Weight matrices after model trained\")\n",
        "plt.subplot(1, 3, 1)\n",
        "plt.title(\"Trained model Weights\")\n",
        "ax = sns.violinplot(y=h1_w,color='b')\n",
        "plt.xlabel('Hidden Layer 1')\n",
        "\n",
        "plt.subplot(1, 3, 2)\n",
        "plt.title(\"Trained model Weights\")\n",
        "ax = sns.violinplot(y=h2_w, color='r')\n",
        "plt.xlabel('Hidden Layer 2 ')\n",
        "\n",
        "plt.subplot(1, 3, 3)\n",
        "plt.title(\"Trained model Weights\")\n",
        "ax = sns.violinplot(y=out_w,color='y')\n",
        "plt.xlabel('Output Layer ')\n",
        "plt.show()"
      ],
      "execution_count": 20,
      "outputs": [
        {
          "output_type": "display_data",
          "data": {
            "image/png": "[encoded data removed]",
            "text/plain": [
              "<Figure size 432x288 with 3 Axes>"
            ]
          },
          "metadata": {
            "tags": []
          }
        }
      ]
    },
    {
      "cell_type": "markdown",
      "metadata": {
        "id": "h56oxJSjj9KS",
        "colab_type": "text"
      },
      "source": [
        "<h3>MLP + Sigmoid activation + ADAM </h3>"
      ]
    },
    {
      "cell_type": "code",
      "metadata": {
        "id": "RoUgbjAdfK2m",
        "colab_type": "code",
        "colab": {
          "base_uri": "https://localhost:8080/",
          "height": 256
        },
        "outputId": "15f6647f-58cb-412a-c3c1-f3b2e8dabe0d"
      },
      "source": [
        "model_sigmoid = Sequential()\n",
        "# Adding Hidden Layer 1\n",
        "model_sigmoid.add(Dense(512, activation='sigmoid', input_shape=(input_dim,)))\n",
        "# Adding Hidden Layer 2\n",
        "model_sigmoid.add(Dense(128, activation='sigmoid'))\n",
        "# Adding Output Layer\n",
        "model_sigmoid.add(Dense(output_dim, activation='softmax'))\n",
        "\n",
        "model_sigmoid.summary()"
      ],
      "execution_count": 21,
      "outputs": [
        {
          "output_type": "stream",
          "text": [
            "_________________________________________________________________\n",
            "Layer (type)                 Output Shape              Param #   \n",
            "=================================================================\n",
            "dense_5 (Dense)              (None, 512)               401920    \n",
            "_________________________________________________________________\n",
            "dense_6 (Dense)              (None, 128)               65664     \n",
            "_________________________________________________________________\n",
            "dense_7 (Dense)              (None, 10)                1290      \n",
            "=================================================================\n",
            "Total params: 468,874\n",
            "Trainable params: 468,874\n",
            "Non-trainable params: 0\n",
            "_________________________________________________________________\n"
          ],
          "name": "stdout"
        }
      ]
    },
    {
      "cell_type": "code",
      "metadata": {
        "id": "GAncaQ00ka55",
        "colab_type": "code",
        "colab": {
          "base_uri": "https://localhost:8080/",
          "height": 770
        },
        "outputId": "da7010a5-d1c5-454a-99f1-dfe5c2188558"
      },
      "source": [
        "# Training the Model\n",
        "model_sigmoid.compile(optimizer='adam', loss='categorical_crossentropy', metrics=['accuracy'])\n",
        "\n",
        "history = model_sigmoid.fit(X_train, Y_train, batch_size=batch_size, epochs=nb_epoch, verbose=1, validation_data=(X_test, Y_test))"
      ],
      "execution_count": 22,
      "outputs": [
        {
          "output_type": "stream",
          "text": [
            "Train on 60000 samples, validate on 10000 samples\n",
            "Epoch 1/20\n",
            "60000/60000 [==============================] - 2s 33us/step - loss: 0.5359 - acc: 0.8592 - val_loss: 0.2578 - val_acc: 0.9238\n",
            "Epoch 2/20\n",
            "60000/60000 [==============================] - 2s 29us/step - loss: 0.2230 - acc: 0.9336 - val_loss: 0.1928 - val_acc: 0.9412\n",
            "Epoch 3/20\n",
            "60000/60000 [==============================] - 2s 29us/step - loss: 0.1646 - acc: 0.9513 - val_loss: 0.1482 - val_acc: 0.9541\n",
            "Epoch 4/20\n",
            "60000/60000 [==============================] - 2s 29us/step - loss: 0.1268 - acc: 0.9622 - val_loss: 0.1155 - val_acc: 0.9646\n",
            "Epoch 5/20\n",
            "60000/60000 [==============================] - 2s 29us/step - loss: 0.0997 - acc: 0.9704 - val_loss: 0.1044 - val_acc: 0.9678\n",
            "Epoch 6/20\n",
            "60000/60000 [==============================] - 2s 29us/step - loss: 0.0796 - acc: 0.9761 - val_loss: 0.0927 - val_acc: 0.9700\n",
            "Epoch 7/20\n",
            "60000/60000 [==============================] - 2s 29us/step - loss: 0.0637 - acc: 0.9815 - val_loss: 0.0806 - val_acc: 0.9754\n",
            "Epoch 8/20\n",
            "60000/60000 [==============================] - 2s 29us/step - loss: 0.0516 - acc: 0.9847 - val_loss: 0.0767 - val_acc: 0.9757\n",
            "Epoch 9/20\n",
            "60000/60000 [==============================] - 2s 29us/step - loss: 0.0418 - acc: 0.9880 - val_loss: 0.0703 - val_acc: 0.9775\n",
            "Epoch 10/20\n",
            "60000/60000 [==============================] - 2s 29us/step - loss: 0.0348 - acc: 0.9898 - val_loss: 0.0661 - val_acc: 0.9791\n",
            "Epoch 11/20\n",
            "60000/60000 [==============================] - 2s 29us/step - loss: 0.0275 - acc: 0.9922 - val_loss: 0.0659 - val_acc: 0.9788\n",
            "Epoch 12/20\n",
            "60000/60000 [==============================] - 2s 29us/step - loss: 0.0223 - acc: 0.9940 - val_loss: 0.0638 - val_acc: 0.9803\n",
            "Epoch 13/20\n",
            "60000/60000 [==============================] - 2s 29us/step - loss: 0.0170 - acc: 0.9960 - val_loss: 0.0676 - val_acc: 0.9799\n",
            "Epoch 14/20\n",
            "60000/60000 [==============================] - 2s 29us/step - loss: 0.0137 - acc: 0.9968 - val_loss: 0.0618 - val_acc: 0.9817\n",
            "Epoch 15/20\n",
            "60000/60000 [==============================] - 2s 29us/step - loss: 0.0110 - acc: 0.9977 - val_loss: 0.0641 - val_acc: 0.9825\n",
            "Epoch 16/20\n",
            "60000/60000 [==============================] - 2s 29us/step - loss: 0.0102 - acc: 0.9974 - val_loss: 0.0638 - val_acc: 0.9817\n",
            "Epoch 17/20\n",
            "60000/60000 [==============================] - 2s 29us/step - loss: 0.0073 - acc: 0.9986 - val_loss: 0.0678 - val_acc: 0.9803\n",
            "Epoch 18/20\n",
            "60000/60000 [==============================] - 2s 29us/step - loss: 0.0050 - acc: 0.9991 - val_loss: 0.0717 - val_acc: 0.9809\n",
            "Epoch 19/20\n",
            "60000/60000 [==============================] - 2s 29us/step - loss: 0.0048 - acc: 0.9990 - val_loss: 0.0854 - val_acc: 0.9760\n",
            "Epoch 20/20\n",
            "60000/60000 [==============================] - 2s 29us/step - loss: 0.0053 - acc: 0.9986 - val_loss: 0.0719 - val_acc: 0.9807\n"
          ],
          "name": "stdout"
        }
      ]
    },
    {
      "cell_type": "code",
      "metadata": {
        "id": "2nLxljwokeiU",
        "colab_type": "code",
        "colab": {
          "base_uri": "https://localhost:8080/",
          "height": 320
        },
        "outputId": "df89e814-a1fc-4901-86c2-4abd01dcd77f"
      },
      "source": [
        "score = model_sigmoid.evaluate(X_test, Y_test, verbose=0) \n",
        "print('Test score:', score[0]) \n",
        "print('Test accuracy:', score[1])\n",
        "\n",
        "fig,ax = plt.subplots(1,1)\n",
        "ax.set_xlabel('epoch') ; ax.set_ylabel('Categorical Crossentropy Loss')\n",
        "\n",
        "# list of epoch numbers\n",
        "x = list(range(1,nb_epoch+1))\n",
        "\n",
        "# print(history.history.keys())\n",
        "# dict_keys(['val_loss', 'val_acc', 'loss', 'acc'])\n",
        "# history = model_drop.fit(X_train, Y_train, batch_size=batch_size, epochs=nb_epoch, verbose=1, validation_data=(X_test, Y_test))\n",
        "\n",
        "# we will get val_loss and val_acc only when you pass the paramter validation_data\n",
        "# val_loss : validation loss\n",
        "# val_acc : validation accuracy\n",
        "\n",
        "# loss : training loss\n",
        "# acc : train accuracy\n",
        "# for each key in histrory.histrory we will have a list of length equal to number of epochs\n",
        "\n",
        "vy = history.history['val_loss']\n",
        "ty = history.history['loss']\n",
        "plt_dynamic(x, vy, ty, ax)"
      ],
      "execution_count": 23,
      "outputs": [
        {
          "output_type": "stream",
          "text": [
            "Test score: 0.07186163762462529\n",
            "Test accuracy: 0.9807\n"
          ],
          "name": "stdout"
        },
        {
          "output_type": "display_data",
          "data": {
            "image/png": "[encoded data removed]",
            "text/plain": [
              "<Figure size 432x288 with 1 Axes>"
            ]
          },
          "metadata": {
            "tags": []
          }
        }
      ]
    },
    {
      "cell_type": "code",
      "metadata": {
        "id": "nKnu-nRVpkOb",
        "colab_type": "code",
        "colab": {
          "base_uri": "https://localhost:8080/",
          "height": 285
        },
        "outputId": "2841d85c-b980-41c9-c433-9dc47c95fe94"
      },
      "source": [
        "w_after = model_sigmoid.get_weights()\n",
        "\n",
        "h1_w = w_after[0].flatten().reshape(-1,1)\n",
        "h2_w = w_after[2].flatten().reshape(-1,1)\n",
        "out_w = w_after[4].flatten().reshape(-1,1)\n",
        "\n",
        "\n",
        "fig = plt.figure()\n",
        "plt.title(\"Weight matrices after model trained\")\n",
        "plt.subplot(1, 3, 1)\n",
        "plt.title(\"Trained model Weights\")\n",
        "ax = sns.violinplot(y=h1_w,color='b')\n",
        "plt.xlabel('Hidden Layer 1')\n",
        "\n",
        "plt.subplot(1, 3, 2)\n",
        "plt.title(\"Trained model Weights\")\n",
        "ax = sns.violinplot(y=h2_w, color='r')\n",
        "plt.xlabel('Hidden Layer 2 ')\n",
        "\n",
        "plt.subplot(1, 3, 3)\n",
        "plt.title(\"Trained model Weights\")\n",
        "ax = sns.violinplot(y=out_w,color='y')\n",
        "plt.xlabel('Output Layer ')\n",
        "plt.show()"
      ],
      "execution_count": 24,
      "outputs": [
        {
          "output_type": "display_data",
          "data": {
            "image/png": "[encoded data removed]",
            "text/plain": [
              "<Figure size 432x288 with 3 Axes>"
            ]
          },
          "metadata": {
            "tags": []
          }
        }
      ]
    },
    {
      "cell_type": "markdown",
      "metadata": {
        "id": "rLzCSWW2p7bD",
        "colab_type": "text"
      },
      "source": [
        "<h3>MLP + ReLU +SGD </h3>"
      ]
    },
    {
      "cell_type": "code",
      "metadata": {
        "id": "shlBPp2Dp6RP",
        "colab_type": "code",
        "colab": {
          "base_uri": "https://localhost:8080/",
          "height": 256
        },
        "outputId": "b6ed3f5f-a26f-4078-9f67-0a551e25b692"
      },
      "source": [
        "# Multilayer perceptron\n",
        "\n",
        "# https://arxiv.org/pdf/1707.09725.pdf#page=95\n",
        "# for relu layers\n",
        "# If we sample weights from a normal distribution N(0,σ) we satisfy this condition with σ=√(2/(ni). \n",
        "# h1 =>  σ=√(2/(fan_in) = 0.062  => N(0,σ) = N(0,0.062)\n",
        "# h2 =>  σ=√(2/(fan_in) = 0.125  => N(0,σ) = N(0,0.125)\n",
        "# out =>  σ=√(2/(fan_in+1) = 0.120  => N(0,σ) = N(0,0.120)\n",
        "\n",
        "model_relu = Sequential()\n",
        "model_relu.add(Dense(512, activation='relu', input_shape=(input_dim,), kernel_initializer=RandomNormal(mean=0.0, stddev=0.062, seed=None)))\n",
        "model_relu.add(Dense(128, activation='relu', kernel_initializer=RandomNormal(mean=0.0, stddev=0.125, seed=None)) )\n",
        "model_relu.add(Dense(output_dim, activation='softmax'))\n",
        "\n",
        "model_relu.summary()"
      ],
      "execution_count": 25,
      "outputs": [
        {
          "output_type": "stream",
          "text": [
            "_________________________________________________________________\n",
            "Layer (type)                 Output Shape              Param #   \n",
            "=================================================================\n",
            "dense_8 (Dense)              (None, 512)               401920    \n",
            "_________________________________________________________________\n",
            "dense_9 (Dense)              (None, 128)               65664     \n",
            "_________________________________________________________________\n",
            "dense_10 (Dense)             (None, 10)                1290      \n",
            "=================================================================\n",
            "Total params: 468,874\n",
            "Trainable params: 468,874\n",
            "Non-trainable params: 0\n",
            "_________________________________________________________________\n"
          ],
          "name": "stdout"
        }
      ]
    },
    {
      "cell_type": "code",
      "metadata": {
        "id": "iYQNj2aIpxMj",
        "colab_type": "code",
        "colab": {
          "base_uri": "https://localhost:8080/",
          "height": 770
        },
        "outputId": "6466d241-4d7c-49a2-99b2-d8b8e92d3f8f"
      },
      "source": [
        "model_relu.compile(optimizer='sgd', loss='categorical_crossentropy', metrics=['accuracy'])\n",
        "\n",
        "history = model_relu.fit(X_train, Y_train, batch_size=batch_size, epochs=nb_epoch, verbose=1, validation_data=(X_test, Y_test))"
      ],
      "execution_count": 26,
      "outputs": [
        {
          "output_type": "stream",
          "text": [
            "Train on 60000 samples, validate on 10000 samples\n",
            "Epoch 1/20\n",
            "60000/60000 [==============================] - 2s 31us/step - loss: 0.7601 - acc: 0.7869 - val_loss: 0.3957 - val_acc: 0.8931\n",
            "Epoch 2/20\n",
            "60000/60000 [==============================] - 2s 27us/step - loss: 0.3594 - acc: 0.8991 - val_loss: 0.3044 - val_acc: 0.9157\n",
            "Epoch 3/20\n",
            "60000/60000 [==============================] - 2s 26us/step - loss: 0.2948 - acc: 0.9172 - val_loss: 0.2664 - val_acc: 0.9258\n",
            "Epoch 4/20\n",
            "60000/60000 [==============================] - 2s 26us/step - loss: 0.2601 - acc: 0.9263 - val_loss: 0.2418 - val_acc: 0.9326\n",
            "Epoch 5/20\n",
            "60000/60000 [==============================] - 2s 25us/step - loss: 0.2359 - acc: 0.9332 - val_loss: 0.2241 - val_acc: 0.9358\n",
            "Epoch 6/20\n",
            "60000/60000 [==============================] - 2s 26us/step - loss: 0.2176 - acc: 0.9384 - val_loss: 0.2106 - val_acc: 0.9388\n",
            "Epoch 7/20\n",
            "60000/60000 [==============================] - 2s 25us/step - loss: 0.2024 - acc: 0.9429 - val_loss: 0.1984 - val_acc: 0.9425\n",
            "Epoch 8/20\n",
            "60000/60000 [==============================] - 2s 26us/step - loss: 0.1902 - acc: 0.9463 - val_loss: 0.1887 - val_acc: 0.9448\n",
            "Epoch 9/20\n",
            "60000/60000 [==============================] - 2s 26us/step - loss: 0.1792 - acc: 0.9498 - val_loss: 0.1821 - val_acc: 0.9473\n",
            "Epoch 10/20\n",
            "60000/60000 [==============================] - 2s 26us/step - loss: 0.1697 - acc: 0.9527 - val_loss: 0.1742 - val_acc: 0.9484\n",
            "Epoch 11/20\n",
            "60000/60000 [==============================] - 1s 25us/step - loss: 0.1612 - acc: 0.9546 - val_loss: 0.1684 - val_acc: 0.9507\n",
            "Epoch 12/20\n",
            "60000/60000 [==============================] - 2s 25us/step - loss: 0.1534 - acc: 0.9567 - val_loss: 0.1611 - val_acc: 0.9528\n",
            "Epoch 13/20\n",
            "60000/60000 [==============================] - 2s 26us/step - loss: 0.1465 - acc: 0.9594 - val_loss: 0.1561 - val_acc: 0.9543\n",
            "Epoch 14/20\n",
            "60000/60000 [==============================] - 2s 26us/step - loss: 0.1404 - acc: 0.9602 - val_loss: 0.1500 - val_acc: 0.9545\n",
            "Epoch 15/20\n",
            "60000/60000 [==============================] - 2s 25us/step - loss: 0.1344 - acc: 0.9625 - val_loss: 0.1461 - val_acc: 0.9561\n",
            "Epoch 16/20\n",
            "60000/60000 [==============================] - 2s 26us/step - loss: 0.1292 - acc: 0.9639 - val_loss: 0.1414 - val_acc: 0.9566\n",
            "Epoch 17/20\n",
            "60000/60000 [==============================] - 2s 25us/step - loss: 0.1241 - acc: 0.9652 - val_loss: 0.1394 - val_acc: 0.9572\n",
            "Epoch 18/20\n",
            "60000/60000 [==============================] - 2s 25us/step - loss: 0.1197 - acc: 0.9665 - val_loss: 0.1366 - val_acc: 0.9591\n",
            "Epoch 19/20\n",
            "60000/60000 [==============================] - 2s 25us/step - loss: 0.1151 - acc: 0.9677 - val_loss: 0.1328 - val_acc: 0.9606\n",
            "Epoch 20/20\n",
            "60000/60000 [==============================] - 2s 25us/step - loss: 0.1113 - acc: 0.9691 - val_loss: 0.1286 - val_acc: 0.9612\n"
          ],
          "name": "stdout"
        }
      ]
    },
    {
      "cell_type": "code",
      "metadata": {
        "id": "jDV_N9NKqFm1",
        "colab_type": "code",
        "colab": {
          "base_uri": "https://localhost:8080/",
          "height": 320
        },
        "outputId": "b62f3558-c6ba-4d7a-da6f-b96890387391"
      },
      "source": [
        "score = model_relu.evaluate(X_test, Y_test, verbose=0) \n",
        "print('Test score:', score[0]) \n",
        "print('Test accuracy:', score[1])\n",
        "\n",
        "fig,ax = plt.subplots(1,1)\n",
        "ax.set_xlabel('epoch') ; ax.set_ylabel('Categorical Crossentropy Loss')\n",
        "\n",
        "# list of epoch numbers\n",
        "x = list(range(1,nb_epoch+1))\n",
        "\n",
        "# print(history.history.keys())\n",
        "# dict_keys(['val_loss', 'val_acc', 'loss', 'acc'])\n",
        "# history = model_drop.fit(X_train, Y_train, batch_size=batch_size, epochs=nb_epoch, verbose=1, validation_data=(X_test, Y_test))\n",
        "\n",
        "# we will get val_loss and val_acc only when you pass the paramter validation_data\n",
        "# val_loss : validation loss\n",
        "# val_acc : validation accuracy\n",
        "\n",
        "# loss : training loss\n",
        "# acc : train accuracy\n",
        "# for each key in histrory.histrory we will have a list of length equal to number of epochs\n",
        "\n",
        "vy = history.history['val_loss']\n",
        "ty = history.history['loss']\n",
        "plt_dynamic(x, vy, ty, ax)"
      ],
      "execution_count": 27,
      "outputs": [
        {
          "output_type": "stream",
          "text": [
            "Test score: 0.12859351084157825\n",
            "Test accuracy: 0.9612\n"
          ],
          "name": "stdout"
        },
        {
          "output_type": "display_data",
          "data": {
            "image/png": "[encoded data removed]",
            "text/plain": [
              "<Figure size 432x288 with 1 Axes>"
            ]
          },
          "metadata": {
            "tags": []
          }
        }
      ]
    },
    {
      "cell_type": "code",
      "metadata": {
        "id": "6fEL6qROqRt4",
        "colab_type": "code",
        "colab": {
          "base_uri": "https://localhost:8080/",
          "height": 285
        },
        "outputId": "43e04298-f662-4e33-8188-a4738d06c9bb"
      },
      "source": [
        "w_after = model_relu.get_weights()\n",
        "\n",
        "h1_w = w_after[0].flatten().reshape(-1,1)\n",
        "h2_w = w_after[2].flatten().reshape(-1,1)\n",
        "out_w = w_after[4].flatten().reshape(-1,1)\n",
        "\n",
        "\n",
        "fig = plt.figure()\n",
        "plt.title(\"Weight matrices after model trained\")\n",
        "plt.subplot(1, 3, 1)\n",
        "plt.title(\"Trained model Weights\")\n",
        "ax = sns.violinplot(y=h1_w,color='b')\n",
        "plt.xlabel('Hidden Layer 1')\n",
        "\n",
        "plt.subplot(1, 3, 2)\n",
        "plt.title(\"Trained model Weights\")\n",
        "ax = sns.violinplot(y=h2_w, color='r')\n",
        "plt.xlabel('Hidden Layer 2 ')\n",
        "\n",
        "plt.subplot(1, 3, 3)\n",
        "plt.title(\"Trained model Weights\")\n",
        "ax = sns.violinplot(y=out_w,color='y')\n",
        "plt.xlabel('Output Layer ')\n",
        "plt.show()"
      ],
      "execution_count": 28,
      "outputs": [
        {
          "output_type": "display_data",
          "data": {
            "image/png": "[encoded data removed]",
            "text/plain": [
              "<Figure size 432x288 with 3 Axes>"
            ]
          },
          "metadata": {
            "tags": []
          }
        }
      ]
    },
    {
      "cell_type": "markdown",
      "metadata": {
        "id": "hIl0DoQXqbuf",
        "colab_type": "text"
      },
      "source": [
        "<h3>MLP + ReLU + ADAM </h3>"
      ]
    },
    {
      "cell_type": "code",
      "metadata": {
        "id": "XqnTlDREqW8h",
        "colab_type": "code",
        "colab": {
          "base_uri": "https://localhost:8080/",
          "height": 274
        },
        "outputId": "467dfdba-0adc-418f-e58f-5e99205f80c7"
      },
      "source": [
        "model_relu = Sequential()\n",
        "model_relu.add(Dense(512, activation='relu', input_shape=(input_dim,), kernel_initializer=RandomNormal(mean=0.0, stddev=0.062, seed=None)))\n",
        "model_relu.add(Dense(128, activation='relu', kernel_initializer=RandomNormal(mean=0.0, stddev=0.125, seed=None)) )\n",
        "model_relu.add(Dense(output_dim, activation='softmax'))\n",
        "\n",
        "print(model_relu.summary())\n"
      ],
      "execution_count": 30,
      "outputs": [
        {
          "output_type": "stream",
          "text": [
            "_________________________________________________________________\n",
            "Layer (type)                 Output Shape              Param #   \n",
            "=================================================================\n",
            "dense_14 (Dense)             (None, 512)               401920    \n",
            "_________________________________________________________________\n",
            "dense_15 (Dense)             (None, 128)               65664     \n",
            "_________________________________________________________________\n",
            "dense_16 (Dense)             (None, 10)                1290      \n",
            "=================================================================\n",
            "Total params: 468,874\n",
            "Trainable params: 468,874\n",
            "Non-trainable params: 0\n",
            "_________________________________________________________________\n",
            "None\n"
          ],
          "name": "stdout"
        }
      ]
    },
    {
      "cell_type": "code",
      "metadata": {
        "id": "mEBDo1RVqgK_",
        "colab_type": "code",
        "colab": {
          "base_uri": "https://localhost:8080/",
          "height": 770
        },
        "outputId": "1922990d-7c89-4556-cd67-da7b1e644055"
      },
      "source": [
        "model_relu.compile(optimizer='adam', loss='categorical_crossentropy', metrics=['accuracy'])\n",
        "\n",
        "history = model_relu.fit(X_train, Y_train, batch_size=batch_size, epochs=nb_epoch, verbose=1, validation_data=(X_test, Y_test))"
      ],
      "execution_count": 31,
      "outputs": [
        {
          "output_type": "stream",
          "text": [
            "Train on 60000 samples, validate on 10000 samples\n",
            "Epoch 1/20\n",
            "60000/60000 [==============================] - 2s 39us/step - loss: 0.2239 - acc: 0.9331 - val_loss: 0.1207 - val_acc: 0.9615\n",
            "Epoch 2/20\n",
            "60000/60000 [==============================] - 2s 30us/step - loss: 0.0828 - acc: 0.9745 - val_loss: 0.0825 - val_acc: 0.9748\n",
            "Epoch 3/20\n",
            "60000/60000 [==============================] - 2s 29us/step - loss: 0.0532 - acc: 0.9838 - val_loss: 0.0725 - val_acc: 0.9788\n",
            "Epoch 4/20\n",
            "60000/60000 [==============================] - 2s 30us/step - loss: 0.0356 - acc: 0.9885 - val_loss: 0.0751 - val_acc: 0.9777\n",
            "Epoch 5/20\n",
            "60000/60000 [==============================] - 2s 29us/step - loss: 0.0274 - acc: 0.9910 - val_loss: 0.0703 - val_acc: 0.9794\n",
            "Epoch 6/20\n",
            "60000/60000 [==============================] - 2s 29us/step - loss: 0.0195 - acc: 0.9939 - val_loss: 0.0681 - val_acc: 0.9814\n",
            "Epoch 7/20\n",
            "60000/60000 [==============================] - 2s 29us/step - loss: 0.0175 - acc: 0.9945 - val_loss: 0.0670 - val_acc: 0.9814\n",
            "Epoch 8/20\n",
            "60000/60000 [==============================] - 2s 30us/step - loss: 0.0132 - acc: 0.9956 - val_loss: 0.0776 - val_acc: 0.9814\n",
            "Epoch 9/20\n",
            "60000/60000 [==============================] - 2s 29us/step - loss: 0.0132 - acc: 0.9957 - val_loss: 0.0928 - val_acc: 0.9771\n",
            "Epoch 10/20\n",
            "60000/60000 [==============================] - 2s 30us/step - loss: 0.0118 - acc: 0.9961 - val_loss: 0.1036 - val_acc: 0.9747\n",
            "Epoch 11/20\n",
            "60000/60000 [==============================] - 2s 29us/step - loss: 0.0132 - acc: 0.9956 - val_loss: 0.0921 - val_acc: 0.9785\n",
            "Epoch 12/20\n",
            "60000/60000 [==============================] - 2s 29us/step - loss: 0.0084 - acc: 0.9972 - val_loss: 0.0823 - val_acc: 0.9815\n",
            "Epoch 13/20\n",
            "60000/60000 [==============================] - 2s 29us/step - loss: 0.0141 - acc: 0.9951 - val_loss: 0.0881 - val_acc: 0.9787\n",
            "Epoch 14/20\n",
            "60000/60000 [==============================] - 2s 30us/step - loss: 0.0076 - acc: 0.9976 - val_loss: 0.0943 - val_acc: 0.9795\n",
            "Epoch 15/20\n",
            "60000/60000 [==============================] - 2s 31us/step - loss: 0.0046 - acc: 0.9988 - val_loss: 0.0784 - val_acc: 0.9833\n",
            "Epoch 16/20\n",
            "60000/60000 [==============================] - 2s 31us/step - loss: 0.0112 - acc: 0.9961 - val_loss: 0.0864 - val_acc: 0.9805\n",
            "Epoch 17/20\n",
            "60000/60000 [==============================] - 2s 31us/step - loss: 0.0085 - acc: 0.9971 - val_loss: 0.0823 - val_acc: 0.9811\n",
            "Epoch 18/20\n",
            "60000/60000 [==============================] - 2s 31us/step - loss: 0.0070 - acc: 0.9976 - val_loss: 0.1015 - val_acc: 0.9798\n",
            "Epoch 19/20\n",
            "60000/60000 [==============================] - 2s 31us/step - loss: 0.0082 - acc: 0.9973 - val_loss: 0.0985 - val_acc: 0.9785\n",
            "Epoch 20/20\n",
            "60000/60000 [==============================] - 2s 30us/step - loss: 0.0047 - acc: 0.9986 - val_loss: 0.0896 - val_acc: 0.9829\n"
          ],
          "name": "stdout"
        }
      ]
    },
    {
      "cell_type": "code",
      "metadata": {
        "id": "hH0vXW2AqnJQ",
        "colab_type": "code",
        "colab": {
          "base_uri": "https://localhost:8080/",
          "height": 320
        },
        "outputId": "e698b5c2-5a91-4ee2-870d-2427bb8dcd15"
      },
      "source": [
        "score = model_relu.evaluate(X_test, Y_test, verbose=0) \n",
        "print('Test score:', score[0]) \n",
        "print('Test accuracy:', score[1])\n",
        "\n",
        "fig,ax = plt.subplots(1,1)\n",
        "ax.set_xlabel('epoch') ; ax.set_ylabel('Categorical Crossentropy Loss')\n",
        "\n",
        "# list of epoch numbers\n",
        "x = list(range(1,nb_epoch+1))\n",
        "\n",
        "# print(history.history.keys())\n",
        "# dict_keys(['val_loss', 'val_acc', 'loss', 'acc'])\n",
        "# history = model_drop.fit(X_train, Y_train, batch_size=batch_size, epochs=nb_epoch, verbose=1, validation_data=(X_test, Y_test))\n",
        "\n",
        "# we will get val_loss and val_acc only when you pass the paramter validation_data\n",
        "# val_loss : validation loss\n",
        "# val_acc : validation accuracy\n",
        "\n",
        "# loss : training loss\n",
        "# acc : train accuracy\n",
        "# for each key in histrory.histrory we will have a list of length equal to number of epochs\n",
        "\n",
        "\n",
        "vy = history.history['val_loss']\n",
        "ty = history.history['loss']\n",
        "plt_dynamic(x, vy, ty, ax)"
      ],
      "execution_count": 32,
      "outputs": [
        {
          "output_type": "stream",
          "text": [
            "Test score: 0.08957016190118286\n",
            "Test accuracy: 0.9829\n"
          ],
          "name": "stdout"
        },
        {
          "output_type": "display_data",
          "data": {
            "image/png": "[encoded data removed]",
            "text/plain": [
              "<Figure size 432x288 with 1 Axes>"
            ]
          },
          "metadata": {
            "tags": []
          }
        }
      ]
    },
    {
      "cell_type": "code",
      "metadata": {
        "id": "-fOqgNEjrClz",
        "colab_type": "code",
        "colab": {
          "base_uri": "https://localhost:8080/",
          "height": 285
        },
        "outputId": "26e14693-3e5f-4b62-f706-f107980b7741"
      },
      "source": [
        "w_after = model_relu.get_weights()\n",
        "\n",
        "h1_w = w_after[0].flatten().reshape(-1,1)\n",
        "h2_w = w_after[2].flatten().reshape(-1,1)\n",
        "out_w = w_after[4].flatten().reshape(-1,1)\n",
        "\n",
        "\n",
        "fig = plt.figure()\n",
        "plt.title(\"Weight matrices after model trained\")\n",
        "plt.subplot(1, 3, 1)\n",
        "plt.title(\"Trained model Weights\")\n",
        "ax = sns.violinplot(y=h1_w,color='b')\n",
        "plt.xlabel('Hidden Layer 1')\n",
        "\n",
        "plt.subplot(1, 3, 2)\n",
        "plt.title(\"Trained model Weights\")\n",
        "ax = sns.violinplot(y=h2_w, color='r')\n",
        "plt.xlabel('Hidden Layer 2 ')\n",
        "\n",
        "plt.subplot(1, 3, 3)\n",
        "plt.title(\"Trained model Weights\")\n",
        "ax = sns.violinplot(y=out_w,color='y')\n",
        "plt.xlabel('Output Layer ')\n",
        "plt.show()"
      ],
      "execution_count": 33,
      "outputs": [
        {
          "output_type": "display_data",
          "data": {
            "image/png": "[encoded data removed]",
            "text/plain": [
              "<Figure size 432x288 with 3 Axes>"
            ]
          },
          "metadata": {
            "tags": []
          }
        }
      ]
    },
    {
      "cell_type": "markdown",
      "metadata": {
        "id": "e6eujRdyrNWh",
        "colab_type": "text"
      },
      "source": [
        "<h3>MLP + Batch-Norm on hidden Layers + AdamOptimizer </h3>"
      ]
    },
    {
      "cell_type": "code",
      "metadata": {
        "id": "TNG8pVMbrJg7",
        "colab_type": "code",
        "colab": {
          "base_uri": "https://localhost:8080/",
          "height": 329
        },
        "outputId": "a5ee886c-8ad3-4d6d-97fc-49b191453f61"
      },
      "source": [
        "# Multilayer perceptron\n",
        "\n",
        "# https://intoli.com/blog/neural-network-initialization/ \n",
        "# If we sample weights from a normal distribution N(0,σ) we satisfy this condition with σ=√(2/(ni+ni+1). \n",
        "# h1 =>  σ=√(2/(ni+ni+1) = 0.039  => N(0,σ) = N(0,0.039)\n",
        "# h2 =>  σ=√(2/(ni+ni+1) = 0.055  => N(0,σ) = N(0,0.055)\n",
        "# h1 =>  σ=√(2/(ni+ni+1) = 0.120  => N(0,σ) = N(0,0.120)\n",
        "\n",
        "from keras.layers.normalization import BatchNormalization\n",
        "\n",
        "model_batch = Sequential()\n",
        "\n",
        "model_batch.add(Dense(512, activation='sigmoid', input_shape=(input_dim,), kernel_initializer=RandomNormal(mean=0.0, stddev=0.039, seed=None)))\n",
        "model_batch.add(BatchNormalization())\n",
        "\n",
        "model_batch.add(Dense(128, activation='sigmoid', kernel_initializer=RandomNormal(mean=0.0, stddev=0.55, seed=None)) )\n",
        "model_batch.add(BatchNormalization())\n",
        "\n",
        "model_batch.add(Dense(output_dim, activation='softmax'))\n",
        "\n",
        "\n",
        "model_batch.summary()"
      ],
      "execution_count": 34,
      "outputs": [
        {
          "output_type": "stream",
          "text": [
            "_________________________________________________________________\n",
            "Layer (type)                 Output Shape              Param #   \n",
            "=================================================================\n",
            "dense_17 (Dense)             (None, 512)               401920    \n",
            "_________________________________________________________________\n",
            "batch_normalization_1 (Batch (None, 512)               2048      \n",
            "_________________________________________________________________\n",
            "dense_18 (Dense)             (None, 128)               65664     \n",
            "_________________________________________________________________\n",
            "batch_normalization_2 (Batch (None, 128)               512       \n",
            "_________________________________________________________________\n",
            "dense_19 (Dense)             (None, 10)                1290      \n",
            "=================================================================\n",
            "Total params: 471,434\n",
            "Trainable params: 470,154\n",
            "Non-trainable params: 1,280\n",
            "_________________________________________________________________\n"
          ],
          "name": "stdout"
        }
      ]
    },
    {
      "cell_type": "code",
      "metadata": {
        "id": "npTD4NfFrrMD",
        "colab_type": "code",
        "colab": {
          "base_uri": "https://localhost:8080/",
          "height": 770
        },
        "outputId": "87f4a495-e81a-4277-965b-b1d8b6655fa6"
      },
      "source": [
        "model_batch.compile(optimizer='adam', loss='categorical_crossentropy', metrics=['accuracy'])\n",
        "\n",
        "history = model_batch.fit(X_train, Y_train, batch_size=batch_size, epochs=nb_epoch, verbose=1, validation_data=(X_test, Y_test))"
      ],
      "execution_count": 35,
      "outputs": [
        {
          "output_type": "stream",
          "text": [
            "Train on 60000 samples, validate on 10000 samples\n",
            "Epoch 1/20\n",
            "60000/60000 [==============================] - 4s 60us/step - loss: 0.3011 - acc: 0.9100 - val_loss: 0.2054 - val_acc: 0.9402\n",
            "Epoch 2/20\n",
            "60000/60000 [==============================] - 3s 46us/step - loss: 0.1743 - acc: 0.9491 - val_loss: 0.1691 - val_acc: 0.9507\n",
            "Epoch 3/20\n",
            "60000/60000 [==============================] - 3s 46us/step - loss: 0.1355 - acc: 0.9599 - val_loss: 0.1477 - val_acc: 0.9567\n",
            "Epoch 4/20\n",
            "60000/60000 [==============================] - 3s 46us/step - loss: 0.1144 - acc: 0.9658 - val_loss: 0.1433 - val_acc: 0.9575\n",
            "Epoch 5/20\n",
            "60000/60000 [==============================] - 3s 46us/step - loss: 0.0965 - acc: 0.9701 - val_loss: 0.1277 - val_acc: 0.9616\n",
            "Epoch 6/20\n",
            "60000/60000 [==============================] - 3s 45us/step - loss: 0.0819 - acc: 0.9749 - val_loss: 0.1135 - val_acc: 0.9665\n",
            "Epoch 7/20\n",
            "60000/60000 [==============================] - 3s 45us/step - loss: 0.0702 - acc: 0.9787 - val_loss: 0.1075 - val_acc: 0.9671\n",
            "Epoch 8/20\n",
            "60000/60000 [==============================] - 3s 46us/step - loss: 0.0597 - acc: 0.9818 - val_loss: 0.1095 - val_acc: 0.9675\n",
            "Epoch 9/20\n",
            "60000/60000 [==============================] - 3s 46us/step - loss: 0.0512 - acc: 0.9841 - val_loss: 0.1103 - val_acc: 0.9657\n",
            "Epoch 10/20\n",
            "60000/60000 [==============================] - 3s 45us/step - loss: 0.0450 - acc: 0.9859 - val_loss: 0.0931 - val_acc: 0.9723\n",
            "Epoch 11/20\n",
            "60000/60000 [==============================] - 3s 46us/step - loss: 0.0379 - acc: 0.9876 - val_loss: 0.1015 - val_acc: 0.9705\n",
            "Epoch 12/20\n",
            "60000/60000 [==============================] - 3s 47us/step - loss: 0.0353 - acc: 0.9886 - val_loss: 0.0987 - val_acc: 0.9698\n",
            "Epoch 13/20\n",
            "60000/60000 [==============================] - 3s 47us/step - loss: 0.0311 - acc: 0.9903 - val_loss: 0.0967 - val_acc: 0.9736\n",
            "Epoch 14/20\n",
            "60000/60000 [==============================] - 3s 47us/step - loss: 0.0279 - acc: 0.9912 - val_loss: 0.0949 - val_acc: 0.9727\n",
            "Epoch 15/20\n",
            "60000/60000 [==============================] - 3s 46us/step - loss: 0.0252 - acc: 0.9922 - val_loss: 0.1001 - val_acc: 0.9720\n",
            "Epoch 16/20\n",
            "60000/60000 [==============================] - 3s 46us/step - loss: 0.0225 - acc: 0.9926 - val_loss: 0.1036 - val_acc: 0.9735\n",
            "Epoch 17/20\n",
            "60000/60000 [==============================] - 3s 45us/step - loss: 0.0189 - acc: 0.9940 - val_loss: 0.0966 - val_acc: 0.9725\n",
            "Epoch 18/20\n",
            "60000/60000 [==============================] - 3s 46us/step - loss: 0.0208 - acc: 0.9933 - val_loss: 0.1009 - val_acc: 0.9721\n",
            "Epoch 19/20\n",
            "60000/60000 [==============================] - 3s 46us/step - loss: 0.0212 - acc: 0.9929 - val_loss: 0.1020 - val_acc: 0.9712\n",
            "Epoch 20/20\n",
            "60000/60000 [==============================] - 3s 45us/step - loss: 0.0180 - acc: 0.9940 - val_loss: 0.1112 - val_acc: 0.9714\n"
          ],
          "name": "stdout"
        }
      ]
    },
    {
      "cell_type": "code",
      "metadata": {
        "id": "-2cxzPQKrxh5",
        "colab_type": "code",
        "colab": {
          "base_uri": "https://localhost:8080/",
          "height": 320
        },
        "outputId": "3e593a8d-012b-4a92-8d7e-f40699beeb5d"
      },
      "source": [
        "score = model_batch.evaluate(X_test, Y_test, verbose=0) \n",
        "print('Test score:', score[0]) \n",
        "print('Test accuracy:', score[1])\n",
        "\n",
        "fig,ax = plt.subplots(1,1)\n",
        "ax.set_xlabel('epoch') ; ax.set_ylabel('Categorical Crossentropy Loss')\n",
        "\n",
        "# list of epoch numbers\n",
        "x = list(range(1,nb_epoch+1))\n",
        "\n",
        "# print(history.history.keys())\n",
        "# dict_keys(['val_loss', 'val_acc', 'loss', 'acc'])\n",
        "# history = model_drop.fit(X_train, Y_train, batch_size=batch_size, epochs=nb_epoch, verbose=1, validation_data=(X_test, Y_test))\n",
        "\n",
        "# we will get val_loss and val_acc only when you pass the paramter validation_data\n",
        "# val_loss : validation loss\n",
        "# val_acc : validation accuracy\n",
        "\n",
        "# loss : training loss\n",
        "# acc : train accuracy\n",
        "# for each key in histrory.histrory we will have a list of length equal to number of epochs\n",
        "\n",
        "vy = history.history['val_loss']\n",
        "ty = history.history['loss']\n",
        "plt_dynamic(x, vy, ty, ax)"
      ],
      "execution_count": 36,
      "outputs": [
        {
          "output_type": "stream",
          "text": [
            "Test score: 0.11121840701806941\n",
            "Test accuracy: 0.9714\n"
          ],
          "name": "stdout"
        },
        {
          "output_type": "display_data",
          "data": {
            "image/png": "[encoded data removed]",
            "text/plain": [
              "<Figure size 432x288 with 1 Axes>"
            ]
          },
          "metadata": {
            "tags": []
          }
        }
      ]
    },
    {
      "cell_type": "code",
      "metadata": {
        "id": "UugpxuQEsAZ4",
        "colab_type": "code",
        "colab": {
          "base_uri": "https://localhost:8080/",
          "height": 285
        },
        "outputId": "5d3f6724-39b8-4ffc-8168-8091d5ce09e2"
      },
      "source": [
        "w_after = model_batch.get_weights()\n",
        "\n",
        "h1_w = w_after[0].flatten().reshape(-1,1)\n",
        "h2_w = w_after[2].flatten().reshape(-1,1)\n",
        "out_w = w_after[4].flatten().reshape(-1,1)\n",
        "\n",
        "\n",
        "fig = plt.figure()\n",
        "plt.title(\"Weight matrices after model trained\")\n",
        "plt.subplot(1, 3, 1)\n",
        "plt.title(\"Trained model Weights\")\n",
        "ax = sns.violinplot(y=h1_w,color='b')\n",
        "plt.xlabel('Hidden Layer 1')\n",
        "\n",
        "plt.subplot(1, 3, 2)\n",
        "plt.title(\"Trained model Weights\")\n",
        "ax = sns.violinplot(y=h2_w, color='r')\n",
        "plt.xlabel('Hidden Layer 2 ')\n",
        "\n",
        "plt.subplot(1, 3, 3)\n",
        "plt.title(\"Trained model Weights\")\n",
        "ax = sns.violinplot(y=out_w,color='y')\n",
        "plt.xlabel('Output Layer ')\n",
        "plt.show()"
      ],
      "execution_count": 38,
      "outputs": [
        {
          "output_type": "display_data",
          "data": {
            "image/png": "[encoded data removed]",
            "text/plain": [
              "<Figure size 432x288 with 3 Axes>"
            ]
          },
          "metadata": {
            "tags": []
          }
        }
      ]
    },
    {
      "cell_type": "markdown",
      "metadata": {
        "id": "B8yGTrjVsT5_",
        "colab_type": "text"
      },
      "source": [
        "<h3>MLP + Dropout + AdamOptimizer </h3>"
      ]
    },
    {
      "cell_type": "code",
      "metadata": {
        "id": "a9qkQXynsJc0",
        "colab_type": "code",
        "colab": {
          "base_uri": "https://localhost:8080/",
          "height": 478
        },
        "outputId": "f8567cb9-2dc6-4e72-e10c-89ea09507ac9"
      },
      "source": [
        "# https://stackoverflow.com/questions/34716454/where-do-i-call-the-batchnormalization-function-in-keras\n",
        "\n",
        "from keras.layers import Dropout\n",
        "\n",
        "model_drop = Sequential()\n",
        "\n",
        "model_drop.add(Dense(512, activation='sigmoid', input_shape=(input_dim,), kernel_initializer=RandomNormal(mean=0.0, stddev=0.039, seed=None)))\n",
        "model_drop.add(BatchNormalization())\n",
        "model_drop.add(Dropout(0.5))\n",
        "\n",
        "model_drop.add(Dense(128, activation='sigmoid', kernel_initializer=RandomNormal(mean=0.0, stddev=0.55, seed=None)) )\n",
        "model_drop.add(BatchNormalization())\n",
        "model_drop.add(Dropout(0.5))\n",
        "\n",
        "model_drop.add(Dense(output_dim, activation='softmax'))\n",
        "\n",
        "\n",
        "model_drop.summary()"
      ],
      "execution_count": 39,
      "outputs": [
        {
          "output_type": "stream",
          "text": [
            "WARNING:tensorflow:From /usr/local/lib/python3.6/dist-packages/keras/backend/tensorflow_backend.py:3445: calling dropout (from tensorflow.python.ops.nn_ops) with keep_prob is deprecated and will be removed in a future version.\n",
            "Instructions for updating:\n",
            "Please use `rate` instead of `keep_prob`. Rate should be set to `rate = 1 - keep_prob`.\n",
            "_________________________________________________________________\n",
            "Layer (type)                 Output Shape              Param #   \n",
            "=================================================================\n",
            "dense_20 (Dense)             (None, 512)               401920    \n",
            "_________________________________________________________________\n",
            "batch_normalization_3 (Batch (None, 512)               2048      \n",
            "_________________________________________________________________\n",
            "dropout_1 (Dropout)          (None, 512)               0         \n",
            "_________________________________________________________________\n",
            "dense_21 (Dense)             (None, 128)               65664     \n",
            "_________________________________________________________________\n",
            "batch_normalization_4 (Batch (None, 128)               512       \n",
            "_________________________________________________________________\n",
            "dropout_2 (Dropout)          (None, 128)               0         \n",
            "_________________________________________________________________\n",
            "dense_22 (Dense)             (None, 10)                1290      \n",
            "=================================================================\n",
            "Total params: 471,434\n",
            "Trainable params: 470,154\n",
            "Non-trainable params: 1,280\n",
            "_________________________________________________________________\n"
          ],
          "name": "stdout"
        }
      ]
    },
    {
      "cell_type": "code",
      "metadata": {
        "id": "6ZlswjPFsrhL",
        "colab_type": "code",
        "colab": {
          "base_uri": "https://localhost:8080/",
          "height": 770
        },
        "outputId": "7040418b-19b5-4745-944c-2456257c161a"
      },
      "source": [
        "model_drop.compile(optimizer='adam', loss='categorical_crossentropy', metrics=['accuracy'])\n",
        "\n",
        "history = model_drop.fit(X_train, Y_train, batch_size=batch_size, epochs=nb_epoch, verbose=1, validation_data=(X_test, Y_test))"
      ],
      "execution_count": 40,
      "outputs": [
        {
          "output_type": "stream",
          "text": [
            "Train on 60000 samples, validate on 10000 samples\n",
            "Epoch 1/20\n",
            "60000/60000 [==============================] - 4s 64us/step - loss: 0.6734 - acc: 0.7948 - val_loss: 0.2856 - val_acc: 0.9120\n",
            "Epoch 2/20\n",
            "60000/60000 [==============================] - 3s 47us/step - loss: 0.4291 - acc: 0.8682 - val_loss: 0.2566 - val_acc: 0.9223\n",
            "Epoch 3/20\n",
            "60000/60000 [==============================] - 3s 47us/step - loss: 0.3850 - acc: 0.8832 - val_loss: 0.2336 - val_acc: 0.9315\n",
            "Epoch 4/20\n",
            "60000/60000 [==============================] - 3s 48us/step - loss: 0.3567 - acc: 0.8924 - val_loss: 0.2154 - val_acc: 0.9329\n",
            "Epoch 5/20\n",
            "60000/60000 [==============================] - 3s 47us/step - loss: 0.3342 - acc: 0.8988 - val_loss: 0.2069 - val_acc: 0.9397\n",
            "Epoch 6/20\n",
            "60000/60000 [==============================] - 3s 47us/step - loss: 0.3235 - acc: 0.9017 - val_loss: 0.2033 - val_acc: 0.9370\n",
            "Epoch 7/20\n",
            "60000/60000 [==============================] - 3s 47us/step - loss: 0.3049 - acc: 0.9078 - val_loss: 0.1908 - val_acc: 0.9437\n",
            "Epoch 8/20\n",
            "60000/60000 [==============================] - 3s 48us/step - loss: 0.2957 - acc: 0.9104 - val_loss: 0.1823 - val_acc: 0.9455\n",
            "Epoch 9/20\n",
            "60000/60000 [==============================] - 3s 47us/step - loss: 0.2795 - acc: 0.9155 - val_loss: 0.1710 - val_acc: 0.9483\n",
            "Epoch 10/20\n",
            "60000/60000 [==============================] - 3s 47us/step - loss: 0.2690 - acc: 0.9187 - val_loss: 0.1672 - val_acc: 0.9492\n",
            "Epoch 11/20\n",
            "60000/60000 [==============================] - 3s 48us/step - loss: 0.2590 - acc: 0.9225 - val_loss: 0.1611 - val_acc: 0.9513\n",
            "Epoch 12/20\n",
            "60000/60000 [==============================] - 3s 49us/step - loss: 0.2443 - acc: 0.9259 - val_loss: 0.1506 - val_acc: 0.9551\n",
            "Epoch 13/20\n",
            "60000/60000 [==============================] - 3s 48us/step - loss: 0.2375 - acc: 0.9279 - val_loss: 0.1458 - val_acc: 0.9574\n",
            "Epoch 14/20\n",
            "60000/60000 [==============================] - 3s 47us/step - loss: 0.2256 - acc: 0.9312 - val_loss: 0.1357 - val_acc: 0.9595\n",
            "Epoch 15/20\n",
            "60000/60000 [==============================] - 3s 47us/step - loss: 0.2157 - acc: 0.9350 - val_loss: 0.1297 - val_acc: 0.9605\n",
            "Epoch 16/20\n",
            "60000/60000 [==============================] - 3s 48us/step - loss: 0.2029 - acc: 0.9393 - val_loss: 0.1238 - val_acc: 0.9639\n",
            "Epoch 17/20\n",
            "60000/60000 [==============================] - 3s 47us/step - loss: 0.1959 - acc: 0.9410 - val_loss: 0.1193 - val_acc: 0.9636\n",
            "Epoch 18/20\n",
            "60000/60000 [==============================] - 3s 47us/step - loss: 0.1903 - acc: 0.9431 - val_loss: 0.1136 - val_acc: 0.9660\n",
            "Epoch 19/20\n",
            "60000/60000 [==============================] - 3s 47us/step - loss: 0.1808 - acc: 0.9456 - val_loss: 0.1123 - val_acc: 0.9663\n",
            "Epoch 20/20\n",
            "60000/60000 [==============================] - 3s 47us/step - loss: 0.1725 - acc: 0.9476 - val_loss: 0.1031 - val_acc: 0.9690\n"
          ],
          "name": "stdout"
        }
      ]
    },
    {
      "cell_type": "code",
      "metadata": {
        "id": "8XluBBQKsyKB",
        "colab_type": "code",
        "colab": {
          "base_uri": "https://localhost:8080/",
          "height": 320
        },
        "outputId": "12ddb4e4-c90f-4aeb-bb2d-ced618e550c3"
      },
      "source": [
        "score = model_drop.evaluate(X_test, Y_test, verbose=0) \n",
        "print('Test score:', score[0]) \n",
        "print('Test accuracy:', score[1])\n",
        "\n",
        "fig,ax = plt.subplots(1,1)\n",
        "ax.set_xlabel('epoch') ; ax.set_ylabel('Categorical Crossentropy Loss')\n",
        "\n",
        "# list of epoch numbers\n",
        "x = list(range(1,nb_epoch+1))\n",
        "\n",
        "# print(history.history.keys())\n",
        "# dict_keys(['val_loss', 'val_acc', 'loss', 'acc'])\n",
        "# history = model_drop.fit(X_train, Y_train, batch_size=batch_size, epochs=nb_epoch, verbose=1, validation_data=(X_test, Y_test))\n",
        "\n",
        "# we will get val_loss and val_acc only when you pass the paramter validation_data\n",
        "# val_loss : validation loss\n",
        "# val_acc : validation accuracy\n",
        "\n",
        "# loss : training loss\n",
        "# acc : train accuracy\n",
        "# for each key in histrory.histrory we will have a list of length equal to number of epochs\n",
        "\n",
        "vy = history.history['val_loss']\n",
        "ty = history.history['loss']\n",
        "plt_dynamic(x, vy, ty, ax)"
      ],
      "execution_count": 41,
      "outputs": [
        {
          "output_type": "stream",
          "text": [
            "Test score: 0.1031228446662426\n",
            "Test accuracy: 0.969\n"
          ],
          "name": "stdout"
        },
        {
          "output_type": "display_data",
          "data": {
            "image/png": "[encoded data removed]",
            "text/plain": [
              "<Figure size 432x288 with 1 Axes>"
            ]
          },
          "metadata": {
            "tags": []
          }
        }
      ]
    },
    {
      "cell_type": "code",
      "metadata": {
        "id": "FqIK4M02tGm2",
        "colab_type": "code",
        "colab": {
          "base_uri": "https://localhost:8080/",
          "height": 285
        },
        "outputId": "95a3b893-129b-4414-e4a2-d6e063d42d02"
      },
      "source": [
        "w_after = model_drop.get_weights()\n",
        "\n",
        "h1_w = w_after[0].flatten().reshape(-1,1)\n",
        "h2_w = w_after[2].flatten().reshape(-1,1)\n",
        "out_w = w_after[4].flatten().reshape(-1,1)\n",
        "\n",
        "\n",
        "fig = plt.figure()\n",
        "plt.title(\"Weight matrices after model trained\")\n",
        "plt.subplot(1, 3, 1)\n",
        "plt.title(\"Trained model Weights\")\n",
        "ax = sns.violinplot(y=h1_w,color='b')\n",
        "plt.xlabel('Hidden Layer 1')\n",
        "\n",
        "plt.subplot(1, 3, 2)\n",
        "plt.title(\"Trained model Weights\")\n",
        "ax = sns.violinplot(y=h2_w, color='r')\n",
        "plt.xlabel('Hidden Layer 2 ')\n",
        "\n",
        "plt.subplot(1, 3, 3)\n",
        "plt.title(\"Trained model Weights\")\n",
        "ax = sns.violinplot(y=out_w,color='y')\n",
        "plt.xlabel('Output Layer ')\n",
        "plt.show()"
      ],
      "execution_count": 42,
      "outputs": [
        {
          "output_type": "display_data",
          "data": {
            "image/png": "[encoded data removed]",
            "text/plain": [
              "<Figure size 432x288 with 3 Axes>"
            ]
          },
          "metadata": {
            "tags": []
          }
        }
      ]
    },
    {
      "cell_type": "markdown",
      "metadata": {
        "id": "RP2i-qQEtWf1",
        "colab_type": "text"
      },
      "source": [
        "<h3>Hyper-parameter tuning of Keras models using Sklearn </h3>"
      ]
    },
    {
      "cell_type": "code",
      "metadata": {
        "id": "wWAlopXutKtu",
        "colab_type": "code",
        "colab": {}
      },
      "source": [
        "from keras.optimizers import Adam,RMSprop,SGD\n",
        "def best_hyperparameters(activ):\n",
        "\n",
        "    model = Sequential()\n",
        "    model.add(Dense(512, activation=activ, input_shape=(input_dim,), kernel_initializer=RandomNormal(mean=0.0, stddev=0.062, seed=None)))\n",
        "    model.add(Dense(128, activation=activ, kernel_initializer=RandomNormal(mean=0.0, stddev=0.125, seed=None)) )\n",
        "    model.add(Dense(output_dim, activation='softmax'))\n",
        "\n",
        "\n",
        "    model.compile(loss='categorical_crossentropy', metrics=['accuracy'], optimizer='adam')\n",
        "    \n",
        "    return model"
      ],
      "execution_count": 0,
      "outputs": []
    },
    {
      "cell_type": "code",
      "metadata": {
        "id": "p5Ga6911vEHD",
        "colab_type": "code",
        "colab": {
          "base_uri": "https://localhost:8080/",
          "height": 74
        },
        "outputId": "fab95fd3-0da4-4db2-ecf7-20aa9f71ec99"
      },
      "source": [
        "# https://machinelearningmastery.com/grid-search-hyperparameters-deep-learning-models-python-keras/\n",
        "\n",
        "activ = ['sigmoid','relu']\n",
        "\n",
        "from keras.wrappers.scikit_learn import KerasClassifier\n",
        "from sklearn.model_selection import GridSearchCV\n",
        "\n",
        "model = KerasClassifier(build_fn=best_hyperparameters, epochs=nb_epoch, batch_size=batch_size, verbose=0)\n",
        "param_grid = dict(activ=activ)\n",
        "\n",
        "# if you are using CPU\n",
        "# grid = GridSearchCV(estimator=model, param_grid=param_grid, n_jobs=-1)\n",
        "# if you are using GPU dont use the n_jobs parameter\n",
        "\n",
        "grid = GridSearchCV(estimator=model, param_grid=param_grid)\n",
        "grid_result = grid.fit(X_train, Y_train)"
      ],
      "execution_count": 44,
      "outputs": [
        {
          "output_type": "stream",
          "text": [
            "/usr/local/lib/python3.6/dist-packages/sklearn/model_selection/_split.py:1978: FutureWarning: The default value of cv will change from 3 to 5 in version 0.22. Specify it explicitly to silence this warning.\n",
            "  warnings.warn(CV_WARNING, FutureWarning)\n"
          ],
          "name": "stderr"
        }
      ]
    },
    {
      "cell_type": "code",
      "metadata": {
        "id": "Y1ynVetYvHIQ",
        "colab_type": "code",
        "colab": {
          "base_uri": "https://localhost:8080/",
          "height": 72
        },
        "outputId": "3bb589a5-e246-441b-fe8b-54f37481223c"
      },
      "source": [
        "print(\"Best: %f using %s\" % (grid_result.best_score_, grid_result.best_params_))\n",
        "means = grid_result.cv_results_['mean_test_score']\n",
        "stds = grid_result.cv_results_['std_test_score']\n",
        "params = grid_result.cv_results_['params']\n",
        "for mean, stdev, param in zip(means, stds, params):\n",
        "    print(\"%f (%f) with: %r\" % (mean, stdev, param))"
      ],
      "execution_count": 45,
      "outputs": [
        {
          "output_type": "stream",
          "text": [
            "Best: 0.977917 using {'activ': 'relu'}\n",
            "0.975550 (0.000923) with: {'activ': 'sigmoid'}\n",
            "0.977917 (0.002201) with: {'activ': 'relu'}\n"
          ],
          "name": "stdout"
        }
      ]
    },
    {
      "cell_type": "code",
      "metadata": {
        "id": "xuy5zufyx79b",
        "colab_type": "code",
        "colab": {}
      },
      "source": [
        ""
      ],
      "execution_count": 0,
      "outputs": []
    }
  ]
}